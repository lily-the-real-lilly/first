{
  "nbformat": 4,
  "nbformat_minor": 0,
  "metadata": {
    "colab": {
      "provenance": [],
      "collapsed_sections": [
        "flGpOCOs5eEl",
        "VC_-2avDINgo",
        "6UUtTG4iKXcq"
      ],
      "authorship_tag": "ABX9TyPWtmP6fJSBg7ih5rJsBX2/",
      "include_colab_link": true
    },
    "kernelspec": {
      "name": "python3",
      "display_name": "Python 3"
    },
    "language_info": {
      "name": "python"
    }
  },
  "cells": [
    {
      "cell_type": "markdown",
      "metadata": {
        "id": "view-in-github",
        "colab_type": "text"
      },
      "source": [
        "<a href=\"https://colab.research.google.com/github/lily-the-real-lilly/first/blob/main/CovidResearch.ipynb\" target=\"_parent\"><img src=\"https://colab.research.google.com/assets/colab-badge.svg\" alt=\"Open In Colab\"/></a>"
      ]
    },
    {
      "cell_type": "markdown",
      "source": [
        "# How did a country's population density affect their Covid infection rate? Can we use population density to predict infection rate?"
      ],
      "metadata": {
        "id": "Wf3ZNN83xqDx"
      }
    },
    {
      "cell_type": "markdown",
      "source": [
        "Null Hypothesis: There is no statistically significant correlation between population density and Covid infection rates."
      ],
      "metadata": {
        "id": "rZZUmNW1yEDP"
      }
    },
    {
      "cell_type": "markdown",
      "source": [
        "Alternative Hypothesis: There is a statistically significant correlation between population density and Covid infection rates."
      ],
      "metadata": {
        "id": "qTUOsNEqyT9y"
      }
    },
    {
      "cell_type": "markdown",
      "source": [
        "# Loading In"
      ],
      "metadata": {
        "id": "flGpOCOs5eEl"
      }
    },
    {
      "cell_type": "code",
      "source": [
        "import warnings\n",
        "warnings.filterwarnings('ignore')\n",
        "\n",
        "import numpy as np\n",
        "import pandas as pd\n",
        "import matplotlib.pyplot as plt\n",
        "\n",
        "from sklearn.feature_selection import SelectKBest\n",
        "from sklearn.model_selection import train_test_split\n",
        "from sklearn.metrics import r2_score, mean_squared_error, mean_absolute_error, accuracy_score\n",
        "!pip install scikit-learn\n",
        "from sklearn import datasets, model_selection\n",
        "from sklearn.metrics import r2_score\n",
        "from sklearn.metrics import mean_squared_error\n",
        "from sklearn.datasets import make_regression\n",
        "from scipy.stats import ttest_ind, ttest_rel"
      ],
      "metadata": {
        "id": "qIscLJ87G1fb",
        "colab": {
          "base_uri": "https://localhost:8080/"
        },
        "outputId": "5212e673-8ea5-44f4-beab-0c2f649e25a5"
      },
      "execution_count": 1,
      "outputs": [
        {
          "output_type": "stream",
          "name": "stdout",
          "text": [
            "Requirement already satisfied: scikit-learn in /usr/local/lib/python3.11/dist-packages (1.6.1)\n",
            "Requirement already satisfied: numpy>=1.19.5 in /usr/local/lib/python3.11/dist-packages (from scikit-learn) (2.0.2)\n",
            "Requirement already satisfied: scipy>=1.6.0 in /usr/local/lib/python3.11/dist-packages (from scikit-learn) (1.16.1)\n",
            "Requirement already satisfied: joblib>=1.2.0 in /usr/local/lib/python3.11/dist-packages (from scikit-learn) (1.5.1)\n",
            "Requirement already satisfied: threadpoolctl>=3.1.0 in /usr/local/lib/python3.11/dist-packages (from scikit-learn) (3.6.0)\n"
          ]
        }
      ]
    },
    {
      "cell_type": "code",
      "execution_count": 2,
      "metadata": {
        "id": "x2ScBFL3FP8P"
      },
      "outputs": [],
      "source": [
        "url = \"https://raw.githubusercontent.com/CSSEGISandData/COVID-19/refs/heads/master/csse_covid_19_data/csse_covid_19_time_series/time_series_covid19_confirmed_global.csv\"\n",
        "covid_df = pd.read_csv(url)"
      ]
    },
    {
      "cell_type": "markdown",
      "source": [
        "\n",
        "\n",
        "---\n",
        "\n"
      ],
      "metadata": {
        "id": "gtbVrKy9ty62"
      }
    },
    {
      "cell_type": "markdown",
      "source": [
        "# Convert to to real dates and group by years"
      ],
      "metadata": {
        "id": "xsujAZyOtjyY"
      }
    },
    {
      "cell_type": "code",
      "source": [
        "#get all dat columns in separate df\n",
        "date_df = covid_df.iloc[:,4:]\n",
        "firstfour = covid_df.iloc[:, 0:4]"
      ],
      "metadata": {
        "id": "gguvVNK7rSqR"
      },
      "execution_count": 3,
      "outputs": []
    },
    {
      "cell_type": "code",
      "source": [
        "#convert dates to proper date time format\n",
        "date_df.columns = pd.to_datetime(date_df.columns)"
      ],
      "metadata": {
        "id": "0gx0Wh2lrfdH"
      },
      "execution_count": 4,
      "outputs": []
    },
    {
      "cell_type": "code",
      "source": [
        "#group columns by year and aggregate\n",
        "date_df = date_df.groupby(date_df.columns.year, axis=1).sum()"
      ],
      "metadata": {
        "id": "w33RFDrrrjKs"
      },
      "execution_count": 5,
      "outputs": []
    },
    {
      "cell_type": "code",
      "source": [
        "#make a copy of date_df and add back the first 4 columns of the original df\n",
        "df = date_df.copy()\n",
        "regrouped = pd.concat([firstfour, date_df], axis =1)"
      ],
      "metadata": {
        "id": "-Vf5JOw-rsnG"
      },
      "execution_count": 6,
      "outputs": []
    },
    {
      "cell_type": "markdown",
      "source": [
        "# Dropping Missing and Irrelevant data"
      ],
      "metadata": {
        "id": "wXKHLCKQt-JQ"
      }
    },
    {
      "cell_type": "code",
      "source": [
        "droppedstate = regrouped.drop(\"Province/State\", axis = 1)"
      ],
      "metadata": {
        "id": "gs8oD3zrp6ZF"
      },
      "execution_count": 7,
      "outputs": []
    },
    {
      "cell_type": "code",
      "source": [
        "droppedstate[droppedstate['Country/Region'] == \"Australia\"] #Checking to make sure there are duplicates #this is the before"
      ],
      "metadata": {
        "colab": {
          "base_uri": "https://localhost:8080/",
          "height": 0
        },
        "id": "pxm7LSzMxpNC",
        "outputId": "7e25d03f-ed53-45fb-c9f6-cae06e450a11"
      },
      "execution_count": 8,
      "outputs": [
        {
          "output_type": "execute_result",
          "data": {
            "text/plain": [
              "   Country/Region      Lat      Long     2020      2021       2022       2023\n",
              "9       Australia -35.4735  149.0124    31115    236803   52065199   15669403\n",
              "10      Australia -33.8688  151.2093  1062399  11035814  959337978  263661840\n",
              "11      Australia -12.4634  130.8456    10119     67376   26219000    7098463\n",
              "12      Australia -27.4698  153.0251   311736    686462  435655307  121185659\n",
              "13      Australia -34.9285  138.6007   132836    336089  193297548   59458095\n",
              "14      Australia -42.8821  147.3272    61454     88466   62500054   19346892\n",
              "15      Australia -37.8136  144.9631  3296025  15608951  714097705  194693571\n",
              "16      Australia -31.9505  115.8605   185540    373662  263892268   87161052"
            ],
            "text/html": [
              "\n",
              "  <div id=\"df-36a61433-8d21-4ebb-b8be-afbeebfc4813\" class=\"colab-df-container\">\n",
              "    <div>\n",
              "<style scoped>\n",
              "    .dataframe tbody tr th:only-of-type {\n",
              "        vertical-align: middle;\n",
              "    }\n",
              "\n",
              "    .dataframe tbody tr th {\n",
              "        vertical-align: top;\n",
              "    }\n",
              "\n",
              "    .dataframe thead th {\n",
              "        text-align: right;\n",
              "    }\n",
              "</style>\n",
              "<table border=\"1\" class=\"dataframe\">\n",
              "  <thead>\n",
              "    <tr style=\"text-align: right;\">\n",
              "      <th></th>\n",
              "      <th>Country/Region</th>\n",
              "      <th>Lat</th>\n",
              "      <th>Long</th>\n",
              "      <th>2020</th>\n",
              "      <th>2021</th>\n",
              "      <th>2022</th>\n",
              "      <th>2023</th>\n",
              "    </tr>\n",
              "  </thead>\n",
              "  <tbody>\n",
              "    <tr>\n",
              "      <th>9</th>\n",
              "      <td>Australia</td>\n",
              "      <td>-35.4735</td>\n",
              "      <td>149.0124</td>\n",
              "      <td>31115</td>\n",
              "      <td>236803</td>\n",
              "      <td>52065199</td>\n",
              "      <td>15669403</td>\n",
              "    </tr>\n",
              "    <tr>\n",
              "      <th>10</th>\n",
              "      <td>Australia</td>\n",
              "      <td>-33.8688</td>\n",
              "      <td>151.2093</td>\n",
              "      <td>1062399</td>\n",
              "      <td>11035814</td>\n",
              "      <td>959337978</td>\n",
              "      <td>263661840</td>\n",
              "    </tr>\n",
              "    <tr>\n",
              "      <th>11</th>\n",
              "      <td>Australia</td>\n",
              "      <td>-12.4634</td>\n",
              "      <td>130.8456</td>\n",
              "      <td>10119</td>\n",
              "      <td>67376</td>\n",
              "      <td>26219000</td>\n",
              "      <td>7098463</td>\n",
              "    </tr>\n",
              "    <tr>\n",
              "      <th>12</th>\n",
              "      <td>Australia</td>\n",
              "      <td>-27.4698</td>\n",
              "      <td>153.0251</td>\n",
              "      <td>311736</td>\n",
              "      <td>686462</td>\n",
              "      <td>435655307</td>\n",
              "      <td>121185659</td>\n",
              "    </tr>\n",
              "    <tr>\n",
              "      <th>13</th>\n",
              "      <td>Australia</td>\n",
              "      <td>-34.9285</td>\n",
              "      <td>138.6007</td>\n",
              "      <td>132836</td>\n",
              "      <td>336089</td>\n",
              "      <td>193297548</td>\n",
              "      <td>59458095</td>\n",
              "    </tr>\n",
              "    <tr>\n",
              "      <th>14</th>\n",
              "      <td>Australia</td>\n",
              "      <td>-42.8821</td>\n",
              "      <td>147.3272</td>\n",
              "      <td>61454</td>\n",
              "      <td>88466</td>\n",
              "      <td>62500054</td>\n",
              "      <td>19346892</td>\n",
              "    </tr>\n",
              "    <tr>\n",
              "      <th>15</th>\n",
              "      <td>Australia</td>\n",
              "      <td>-37.8136</td>\n",
              "      <td>144.9631</td>\n",
              "      <td>3296025</td>\n",
              "      <td>15608951</td>\n",
              "      <td>714097705</td>\n",
              "      <td>194693571</td>\n",
              "    </tr>\n",
              "    <tr>\n",
              "      <th>16</th>\n",
              "      <td>Australia</td>\n",
              "      <td>-31.9505</td>\n",
              "      <td>115.8605</td>\n",
              "      <td>185540</td>\n",
              "      <td>373662</td>\n",
              "      <td>263892268</td>\n",
              "      <td>87161052</td>\n",
              "    </tr>\n",
              "  </tbody>\n",
              "</table>\n",
              "</div>\n",
              "    <div class=\"colab-df-buttons\">\n",
              "\n",
              "  <div class=\"colab-df-container\">\n",
              "    <button class=\"colab-df-convert\" onclick=\"convertToInteractive('df-36a61433-8d21-4ebb-b8be-afbeebfc4813')\"\n",
              "            title=\"Convert this dataframe to an interactive table.\"\n",
              "            style=\"display:none;\">\n",
              "\n",
              "  <svg xmlns=\"http://www.w3.org/2000/svg\" height=\"24px\" viewBox=\"0 -960 960 960\">\n",
              "    <path d=\"M120-120v-720h720v720H120Zm60-500h600v-160H180v160Zm220 220h160v-160H400v160Zm0 220h160v-160H400v160ZM180-400h160v-160H180v160Zm440 0h160v-160H620v160ZM180-180h160v-160H180v160Zm440 0h160v-160H620v160Z\"/>\n",
              "  </svg>\n",
              "    </button>\n",
              "\n",
              "  <style>\n",
              "    .colab-df-container {\n",
              "      display:flex;\n",
              "      gap: 12px;\n",
              "    }\n",
              "\n",
              "    .colab-df-convert {\n",
              "      background-color: #E8F0FE;\n",
              "      border: none;\n",
              "      border-radius: 50%;\n",
              "      cursor: pointer;\n",
              "      display: none;\n",
              "      fill: #1967D2;\n",
              "      height: 32px;\n",
              "      padding: 0 0 0 0;\n",
              "      width: 32px;\n",
              "    }\n",
              "\n",
              "    .colab-df-convert:hover {\n",
              "      background-color: #E2EBFA;\n",
              "      box-shadow: 0px 1px 2px rgba(60, 64, 67, 0.3), 0px 1px 3px 1px rgba(60, 64, 67, 0.15);\n",
              "      fill: #174EA6;\n",
              "    }\n",
              "\n",
              "    .colab-df-buttons div {\n",
              "      margin-bottom: 4px;\n",
              "    }\n",
              "\n",
              "    [theme=dark] .colab-df-convert {\n",
              "      background-color: #3B4455;\n",
              "      fill: #D2E3FC;\n",
              "    }\n",
              "\n",
              "    [theme=dark] .colab-df-convert:hover {\n",
              "      background-color: #434B5C;\n",
              "      box-shadow: 0px 1px 3px 1px rgba(0, 0, 0, 0.15);\n",
              "      filter: drop-shadow(0px 1px 2px rgba(0, 0, 0, 0.3));\n",
              "      fill: #FFFFFF;\n",
              "    }\n",
              "  </style>\n",
              "\n",
              "    <script>\n",
              "      const buttonEl =\n",
              "        document.querySelector('#df-36a61433-8d21-4ebb-b8be-afbeebfc4813 button.colab-df-convert');\n",
              "      buttonEl.style.display =\n",
              "        google.colab.kernel.accessAllowed ? 'block' : 'none';\n",
              "\n",
              "      async function convertToInteractive(key) {\n",
              "        const element = document.querySelector('#df-36a61433-8d21-4ebb-b8be-afbeebfc4813');\n",
              "        const dataTable =\n",
              "          await google.colab.kernel.invokeFunction('convertToInteractive',\n",
              "                                                    [key], {});\n",
              "        if (!dataTable) return;\n",
              "\n",
              "        const docLinkHtml = 'Like what you see? Visit the ' +\n",
              "          '<a target=\"_blank\" href=https://colab.research.google.com/notebooks/data_table.ipynb>data table notebook</a>'\n",
              "          + ' to learn more about interactive tables.';\n",
              "        element.innerHTML = '';\n",
              "        dataTable['output_type'] = 'display_data';\n",
              "        await google.colab.output.renderOutput(dataTable, element);\n",
              "        const docLink = document.createElement('div');\n",
              "        docLink.innerHTML = docLinkHtml;\n",
              "        element.appendChild(docLink);\n",
              "      }\n",
              "    </script>\n",
              "  </div>\n",
              "\n",
              "\n",
              "    <div id=\"df-9ef44bf6-2118-4b8d-ba7e-962a0e369694\">\n",
              "      <button class=\"colab-df-quickchart\" onclick=\"quickchart('df-9ef44bf6-2118-4b8d-ba7e-962a0e369694')\"\n",
              "                title=\"Suggest charts\"\n",
              "                style=\"display:none;\">\n",
              "\n",
              "<svg xmlns=\"http://www.w3.org/2000/svg\" height=\"24px\"viewBox=\"0 0 24 24\"\n",
              "     width=\"24px\">\n",
              "    <g>\n",
              "        <path d=\"M19 3H5c-1.1 0-2 .9-2 2v14c0 1.1.9 2 2 2h14c1.1 0 2-.9 2-2V5c0-1.1-.9-2-2-2zM9 17H7v-7h2v7zm4 0h-2V7h2v10zm4 0h-2v-4h2v4z\"/>\n",
              "    </g>\n",
              "</svg>\n",
              "      </button>\n",
              "\n",
              "<style>\n",
              "  .colab-df-quickchart {\n",
              "      --bg-color: #E8F0FE;\n",
              "      --fill-color: #1967D2;\n",
              "      --hover-bg-color: #E2EBFA;\n",
              "      --hover-fill-color: #174EA6;\n",
              "      --disabled-fill-color: #AAA;\n",
              "      --disabled-bg-color: #DDD;\n",
              "  }\n",
              "\n",
              "  [theme=dark] .colab-df-quickchart {\n",
              "      --bg-color: #3B4455;\n",
              "      --fill-color: #D2E3FC;\n",
              "      --hover-bg-color: #434B5C;\n",
              "      --hover-fill-color: #FFFFFF;\n",
              "      --disabled-bg-color: #3B4455;\n",
              "      --disabled-fill-color: #666;\n",
              "  }\n",
              "\n",
              "  .colab-df-quickchart {\n",
              "    background-color: var(--bg-color);\n",
              "    border: none;\n",
              "    border-radius: 50%;\n",
              "    cursor: pointer;\n",
              "    display: none;\n",
              "    fill: var(--fill-color);\n",
              "    height: 32px;\n",
              "    padding: 0;\n",
              "    width: 32px;\n",
              "  }\n",
              "\n",
              "  .colab-df-quickchart:hover {\n",
              "    background-color: var(--hover-bg-color);\n",
              "    box-shadow: 0 1px 2px rgba(60, 64, 67, 0.3), 0 1px 3px 1px rgba(60, 64, 67, 0.15);\n",
              "    fill: var(--button-hover-fill-color);\n",
              "  }\n",
              "\n",
              "  .colab-df-quickchart-complete:disabled,\n",
              "  .colab-df-quickchart-complete:disabled:hover {\n",
              "    background-color: var(--disabled-bg-color);\n",
              "    fill: var(--disabled-fill-color);\n",
              "    box-shadow: none;\n",
              "  }\n",
              "\n",
              "  .colab-df-spinner {\n",
              "    border: 2px solid var(--fill-color);\n",
              "    border-color: transparent;\n",
              "    border-bottom-color: var(--fill-color);\n",
              "    animation:\n",
              "      spin 1s steps(1) infinite;\n",
              "  }\n",
              "\n",
              "  @keyframes spin {\n",
              "    0% {\n",
              "      border-color: transparent;\n",
              "      border-bottom-color: var(--fill-color);\n",
              "      border-left-color: var(--fill-color);\n",
              "    }\n",
              "    20% {\n",
              "      border-color: transparent;\n",
              "      border-left-color: var(--fill-color);\n",
              "      border-top-color: var(--fill-color);\n",
              "    }\n",
              "    30% {\n",
              "      border-color: transparent;\n",
              "      border-left-color: var(--fill-color);\n",
              "      border-top-color: var(--fill-color);\n",
              "      border-right-color: var(--fill-color);\n",
              "    }\n",
              "    40% {\n",
              "      border-color: transparent;\n",
              "      border-right-color: var(--fill-color);\n",
              "      border-top-color: var(--fill-color);\n",
              "    }\n",
              "    60% {\n",
              "      border-color: transparent;\n",
              "      border-right-color: var(--fill-color);\n",
              "    }\n",
              "    80% {\n",
              "      border-color: transparent;\n",
              "      border-right-color: var(--fill-color);\n",
              "      border-bottom-color: var(--fill-color);\n",
              "    }\n",
              "    90% {\n",
              "      border-color: transparent;\n",
              "      border-bottom-color: var(--fill-color);\n",
              "    }\n",
              "  }\n",
              "</style>\n",
              "\n",
              "      <script>\n",
              "        async function quickchart(key) {\n",
              "          const quickchartButtonEl =\n",
              "            document.querySelector('#' + key + ' button');\n",
              "          quickchartButtonEl.disabled = true;  // To prevent multiple clicks.\n",
              "          quickchartButtonEl.classList.add('colab-df-spinner');\n",
              "          try {\n",
              "            const charts = await google.colab.kernel.invokeFunction(\n",
              "                'suggestCharts', [key], {});\n",
              "          } catch (error) {\n",
              "            console.error('Error during call to suggestCharts:', error);\n",
              "          }\n",
              "          quickchartButtonEl.classList.remove('colab-df-spinner');\n",
              "          quickchartButtonEl.classList.add('colab-df-quickchart-complete');\n",
              "        }\n",
              "        (() => {\n",
              "          let quickchartButtonEl =\n",
              "            document.querySelector('#df-9ef44bf6-2118-4b8d-ba7e-962a0e369694 button');\n",
              "          quickchartButtonEl.style.display =\n",
              "            google.colab.kernel.accessAllowed ? 'block' : 'none';\n",
              "        })();\n",
              "      </script>\n",
              "    </div>\n",
              "\n",
              "    </div>\n",
              "  </div>\n"
            ],
            "application/vnd.google.colaboratory.intrinsic+json": {
              "type": "dataframe",
              "summary": "{\n  \"name\": \"droppedstate[droppedstate['Country/Region'] == \\\"Australia\\\"] #Checking to make sure there are duplicates #this is the before\",\n  \"rows\": 8,\n  \"fields\": [\n    {\n      \"column\": \"Country/Region\",\n      \"properties\": {\n        \"dtype\": \"category\",\n        \"num_unique_values\": 1,\n        \"samples\": [\n          \"Australia\"\n        ],\n        \"semantic_type\": \"\",\n        \"description\": \"\"\n      }\n    },\n    {\n      \"column\": \"Lat\",\n      \"properties\": {\n        \"dtype\": \"number\",\n        \"std\": 9.090539196290049,\n        \"min\": -42.8821,\n        \"max\": -12.4634,\n        \"num_unique_values\": 8,\n        \"samples\": [\n          -33.8688\n        ],\n        \"semantic_type\": \"\",\n        \"description\": \"\"\n      }\n    },\n    {\n      \"column\": \"Long\",\n      \"properties\": {\n        \"dtype\": \"number\",\n        \"std\": 12.584701488648548,\n        \"min\": 115.8605,\n        \"max\": 153.0251,\n        \"num_unique_values\": 8,\n        \"samples\": [\n          151.2093\n        ],\n        \"semantic_type\": \"\",\n        \"description\": \"\"\n      }\n    },\n    {\n      \"column\": 2020,\n      \"properties\": {\n        \"dtype\": \"number\",\n        \"std\": 1127988,\n        \"min\": 10119,\n        \"max\": 3296025,\n        \"num_unique_values\": 8,\n        \"samples\": [\n          1062399\n        ],\n        \"semantic_type\": \"\",\n        \"description\": \"\"\n      }\n    },\n    {\n      \"column\": 2021,\n      \"properties\": {\n        \"dtype\": \"number\",\n        \"std\": 6154695,\n        \"min\": 67376,\n        \"max\": 15608951,\n        \"num_unique_values\": 8,\n        \"samples\": [\n          11035814\n        ],\n        \"semantic_type\": \"\",\n        \"description\": \"\"\n      }\n    },\n    {\n      \"column\": 2022,\n      \"properties\": {\n        \"dtype\": \"number\",\n        \"std\": 341915367,\n        \"min\": 26219000,\n        \"max\": 959337978,\n        \"num_unique_values\": 8,\n        \"samples\": [\n          959337978\n        ],\n        \"semantic_type\": \"\",\n        \"description\": \"\"\n      }\n    },\n    {\n      \"column\": 2023,\n      \"properties\": {\n        \"dtype\": \"number\",\n        \"std\": 92682905,\n        \"min\": 7098463,\n        \"max\": 263661840,\n        \"num_unique_values\": 8,\n        \"samples\": [\n          263661840\n        ],\n        \"semantic_type\": \"\",\n        \"description\": \"\"\n      }\n    }\n  ]\n}"
            }
          },
          "metadata": {},
          "execution_count": 8
        }
      ]
    },
    {
      "cell_type": "code",
      "source": [
        "contgrouped = droppedstate.groupby('Country/Region').sum().reset_index()\n",
        "contgrouped[contgrouped['Country/Region'] == \"Australia\"]"
      ],
      "metadata": {
        "colab": {
          "base_uri": "https://localhost:8080/",
          "height": 0
        },
        "id": "oJrPUF_fw1tc",
        "outputId": "244053e8-4cc5-48a9-b34b-51a0fdb98301"
      },
      "execution_count": 9,
      "outputs": [
        {
          "output_type": "execute_result",
          "data": {
            "text/plain": [
              "  Country/Region       Lat       Long     2020      2021        2022  \\\n",
              "9      Australia -256.8502  1130.8439  5091224  28433623  2707065059   \n",
              "\n",
              "        2023  \n",
              "9  768274975  "
            ],
            "text/html": [
              "\n",
              "  <div id=\"df-8e91f2f0-b594-4158-89a1-08934587af1d\" class=\"colab-df-container\">\n",
              "    <div>\n",
              "<style scoped>\n",
              "    .dataframe tbody tr th:only-of-type {\n",
              "        vertical-align: middle;\n",
              "    }\n",
              "\n",
              "    .dataframe tbody tr th {\n",
              "        vertical-align: top;\n",
              "    }\n",
              "\n",
              "    .dataframe thead th {\n",
              "        text-align: right;\n",
              "    }\n",
              "</style>\n",
              "<table border=\"1\" class=\"dataframe\">\n",
              "  <thead>\n",
              "    <tr style=\"text-align: right;\">\n",
              "      <th></th>\n",
              "      <th>Country/Region</th>\n",
              "      <th>Lat</th>\n",
              "      <th>Long</th>\n",
              "      <th>2020</th>\n",
              "      <th>2021</th>\n",
              "      <th>2022</th>\n",
              "      <th>2023</th>\n",
              "    </tr>\n",
              "  </thead>\n",
              "  <tbody>\n",
              "    <tr>\n",
              "      <th>9</th>\n",
              "      <td>Australia</td>\n",
              "      <td>-256.8502</td>\n",
              "      <td>1130.8439</td>\n",
              "      <td>5091224</td>\n",
              "      <td>28433623</td>\n",
              "      <td>2707065059</td>\n",
              "      <td>768274975</td>\n",
              "    </tr>\n",
              "  </tbody>\n",
              "</table>\n",
              "</div>\n",
              "    <div class=\"colab-df-buttons\">\n",
              "\n",
              "  <div class=\"colab-df-container\">\n",
              "    <button class=\"colab-df-convert\" onclick=\"convertToInteractive('df-8e91f2f0-b594-4158-89a1-08934587af1d')\"\n",
              "            title=\"Convert this dataframe to an interactive table.\"\n",
              "            style=\"display:none;\">\n",
              "\n",
              "  <svg xmlns=\"http://www.w3.org/2000/svg\" height=\"24px\" viewBox=\"0 -960 960 960\">\n",
              "    <path d=\"M120-120v-720h720v720H120Zm60-500h600v-160H180v160Zm220 220h160v-160H400v160Zm0 220h160v-160H400v160ZM180-400h160v-160H180v160Zm440 0h160v-160H620v160ZM180-180h160v-160H180v160Zm440 0h160v-160H620v160Z\"/>\n",
              "  </svg>\n",
              "    </button>\n",
              "\n",
              "  <style>\n",
              "    .colab-df-container {\n",
              "      display:flex;\n",
              "      gap: 12px;\n",
              "    }\n",
              "\n",
              "    .colab-df-convert {\n",
              "      background-color: #E8F0FE;\n",
              "      border: none;\n",
              "      border-radius: 50%;\n",
              "      cursor: pointer;\n",
              "      display: none;\n",
              "      fill: #1967D2;\n",
              "      height: 32px;\n",
              "      padding: 0 0 0 0;\n",
              "      width: 32px;\n",
              "    }\n",
              "\n",
              "    .colab-df-convert:hover {\n",
              "      background-color: #E2EBFA;\n",
              "      box-shadow: 0px 1px 2px rgba(60, 64, 67, 0.3), 0px 1px 3px 1px rgba(60, 64, 67, 0.15);\n",
              "      fill: #174EA6;\n",
              "    }\n",
              "\n",
              "    .colab-df-buttons div {\n",
              "      margin-bottom: 4px;\n",
              "    }\n",
              "\n",
              "    [theme=dark] .colab-df-convert {\n",
              "      background-color: #3B4455;\n",
              "      fill: #D2E3FC;\n",
              "    }\n",
              "\n",
              "    [theme=dark] .colab-df-convert:hover {\n",
              "      background-color: #434B5C;\n",
              "      box-shadow: 0px 1px 3px 1px rgba(0, 0, 0, 0.15);\n",
              "      filter: drop-shadow(0px 1px 2px rgba(0, 0, 0, 0.3));\n",
              "      fill: #FFFFFF;\n",
              "    }\n",
              "  </style>\n",
              "\n",
              "    <script>\n",
              "      const buttonEl =\n",
              "        document.querySelector('#df-8e91f2f0-b594-4158-89a1-08934587af1d button.colab-df-convert');\n",
              "      buttonEl.style.display =\n",
              "        google.colab.kernel.accessAllowed ? 'block' : 'none';\n",
              "\n",
              "      async function convertToInteractive(key) {\n",
              "        const element = document.querySelector('#df-8e91f2f0-b594-4158-89a1-08934587af1d');\n",
              "        const dataTable =\n",
              "          await google.colab.kernel.invokeFunction('convertToInteractive',\n",
              "                                                    [key], {});\n",
              "        if (!dataTable) return;\n",
              "\n",
              "        const docLinkHtml = 'Like what you see? Visit the ' +\n",
              "          '<a target=\"_blank\" href=https://colab.research.google.com/notebooks/data_table.ipynb>data table notebook</a>'\n",
              "          + ' to learn more about interactive tables.';\n",
              "        element.innerHTML = '';\n",
              "        dataTable['output_type'] = 'display_data';\n",
              "        await google.colab.output.renderOutput(dataTable, element);\n",
              "        const docLink = document.createElement('div');\n",
              "        docLink.innerHTML = docLinkHtml;\n",
              "        element.appendChild(docLink);\n",
              "      }\n",
              "    </script>\n",
              "  </div>\n",
              "\n",
              "\n",
              "    </div>\n",
              "  </div>\n"
            ],
            "application/vnd.google.colaboratory.intrinsic+json": {
              "type": "dataframe",
              "summary": "{\n  \"name\": \"contgrouped[contgrouped['Country/Region'] == \\\"Australia\\\"]\",\n  \"rows\": 1,\n  \"fields\": [\n    {\n      \"column\": \"Country/Region\",\n      \"properties\": {\n        \"dtype\": \"string\",\n        \"num_unique_values\": 1,\n        \"samples\": [\n          \"Australia\"\n        ],\n        \"semantic_type\": \"\",\n        \"description\": \"\"\n      }\n    },\n    {\n      \"column\": \"Lat\",\n      \"properties\": {\n        \"dtype\": \"number\",\n        \"std\": null,\n        \"min\": -256.85020000000003,\n        \"max\": -256.85020000000003,\n        \"num_unique_values\": 1,\n        \"samples\": [\n          -256.85020000000003\n        ],\n        \"semantic_type\": \"\",\n        \"description\": \"\"\n      }\n    },\n    {\n      \"column\": \"Long\",\n      \"properties\": {\n        \"dtype\": \"number\",\n        \"std\": null,\n        \"min\": 1130.8439,\n        \"max\": 1130.8439,\n        \"num_unique_values\": 1,\n        \"samples\": [\n          1130.8439\n        ],\n        \"semantic_type\": \"\",\n        \"description\": \"\"\n      }\n    },\n    {\n      \"column\": 2020,\n      \"properties\": {\n        \"dtype\": \"number\",\n        \"std\": null,\n        \"min\": 5091224,\n        \"max\": 5091224,\n        \"num_unique_values\": 1,\n        \"samples\": [\n          5091224\n        ],\n        \"semantic_type\": \"\",\n        \"description\": \"\"\n      }\n    },\n    {\n      \"column\": 2021,\n      \"properties\": {\n        \"dtype\": \"number\",\n        \"std\": null,\n        \"min\": 28433623,\n        \"max\": 28433623,\n        \"num_unique_values\": 1,\n        \"samples\": [\n          28433623\n        ],\n        \"semantic_type\": \"\",\n        \"description\": \"\"\n      }\n    },\n    {\n      \"column\": 2022,\n      \"properties\": {\n        \"dtype\": \"number\",\n        \"std\": null,\n        \"min\": 2707065059,\n        \"max\": 2707065059,\n        \"num_unique_values\": 1,\n        \"samples\": [\n          2707065059\n        ],\n        \"semantic_type\": \"\",\n        \"description\": \"\"\n      }\n    },\n    {\n      \"column\": 2023,\n      \"properties\": {\n        \"dtype\": \"number\",\n        \"std\": null,\n        \"min\": 768274975,\n        \"max\": 768274975,\n        \"num_unique_values\": 1,\n        \"samples\": [\n          768274975\n        ],\n        \"semantic_type\": \"\",\n        \"description\": \"\"\n      }\n    }\n  ]\n}"
            }
          },
          "metadata": {},
          "execution_count": 9
        }
      ]
    },
    {
      "cell_type": "code",
      "source": [
        "contgrouped.info() #no nulls yay"
      ],
      "metadata": {
        "colab": {
          "base_uri": "https://localhost:8080/"
        },
        "id": "ptotkq-dZM2H",
        "outputId": "ad651433-a3a6-4316-e9f4-d66f656bfef6"
      },
      "execution_count": 10,
      "outputs": [
        {
          "output_type": "stream",
          "name": "stdout",
          "text": [
            "<class 'pandas.core.frame.DataFrame'>\n",
            "RangeIndex: 201 entries, 0 to 200\n",
            "Data columns (total 7 columns):\n",
            " #   Column          Non-Null Count  Dtype  \n",
            "---  ------          --------------  -----  \n",
            " 0   Country/Region  201 non-null    object \n",
            " 1   Lat             201 non-null    float64\n",
            " 2   Long            201 non-null    float64\n",
            " 3   2020            201 non-null    int64  \n",
            " 4   2021            201 non-null    int64  \n",
            " 5   2022            201 non-null    int64  \n",
            " 6   2023            201 non-null    int64  \n",
            "dtypes: float64(2), int64(4), object(1)\n",
            "memory usage: 11.1+ KB\n"
          ]
        }
      ]
    },
    {
      "cell_type": "code",
      "source": [
        "# drop 'Antarctica', 'Diamond Princess', 'MS Zaandam' , 'Summer Olympics 2020',  'Winter Olympics 2022'\n",
        "# ROW 5, 49, 107, 170, 197\n",
        "df = contgrouped.drop([5, 49, 107, 170, 197])\n",
        "df[df['Country/Region'] == 'Winter Olympics 2022'] #does work because omlypics does not exist anymore"
      ],
      "metadata": {
        "colab": {
          "base_uri": "https://localhost:8080/",
          "height": 0
        },
        "id": "418yrlIAhGSD",
        "outputId": "eb59e07e-3a00-4cbb-a5ee-4c0ca3063a25"
      },
      "execution_count": 11,
      "outputs": [
        {
          "output_type": "execute_result",
          "data": {
            "text/plain": [
              "Empty DataFrame\n",
              "Columns: [Country/Region, Lat, Long, 2020, 2021, 2022, 2023]\n",
              "Index: []"
            ],
            "text/html": [
              "\n",
              "  <div id=\"df-5056c678-df07-4619-8e37-5e9fee7d7b6c\" class=\"colab-df-container\">\n",
              "    <div>\n",
              "<style scoped>\n",
              "    .dataframe tbody tr th:only-of-type {\n",
              "        vertical-align: middle;\n",
              "    }\n",
              "\n",
              "    .dataframe tbody tr th {\n",
              "        vertical-align: top;\n",
              "    }\n",
              "\n",
              "    .dataframe thead th {\n",
              "        text-align: right;\n",
              "    }\n",
              "</style>\n",
              "<table border=\"1\" class=\"dataframe\">\n",
              "  <thead>\n",
              "    <tr style=\"text-align: right;\">\n",
              "      <th></th>\n",
              "      <th>Country/Region</th>\n",
              "      <th>Lat</th>\n",
              "      <th>Long</th>\n",
              "      <th>2020</th>\n",
              "      <th>2021</th>\n",
              "      <th>2022</th>\n",
              "      <th>2023</th>\n",
              "    </tr>\n",
              "  </thead>\n",
              "  <tbody>\n",
              "  </tbody>\n",
              "</table>\n",
              "</div>\n",
              "    <div class=\"colab-df-buttons\">\n",
              "\n",
              "  <div class=\"colab-df-container\">\n",
              "    <button class=\"colab-df-convert\" onclick=\"convertToInteractive('df-5056c678-df07-4619-8e37-5e9fee7d7b6c')\"\n",
              "            title=\"Convert this dataframe to an interactive table.\"\n",
              "            style=\"display:none;\">\n",
              "\n",
              "  <svg xmlns=\"http://www.w3.org/2000/svg\" height=\"24px\" viewBox=\"0 -960 960 960\">\n",
              "    <path d=\"M120-120v-720h720v720H120Zm60-500h600v-160H180v160Zm220 220h160v-160H400v160Zm0 220h160v-160H400v160ZM180-400h160v-160H180v160Zm440 0h160v-160H620v160ZM180-180h160v-160H180v160Zm440 0h160v-160H620v160Z\"/>\n",
              "  </svg>\n",
              "    </button>\n",
              "\n",
              "  <style>\n",
              "    .colab-df-container {\n",
              "      display:flex;\n",
              "      gap: 12px;\n",
              "    }\n",
              "\n",
              "    .colab-df-convert {\n",
              "      background-color: #E8F0FE;\n",
              "      border: none;\n",
              "      border-radius: 50%;\n",
              "      cursor: pointer;\n",
              "      display: none;\n",
              "      fill: #1967D2;\n",
              "      height: 32px;\n",
              "      padding: 0 0 0 0;\n",
              "      width: 32px;\n",
              "    }\n",
              "\n",
              "    .colab-df-convert:hover {\n",
              "      background-color: #E2EBFA;\n",
              "      box-shadow: 0px 1px 2px rgba(60, 64, 67, 0.3), 0px 1px 3px 1px rgba(60, 64, 67, 0.15);\n",
              "      fill: #174EA6;\n",
              "    }\n",
              "\n",
              "    .colab-df-buttons div {\n",
              "      margin-bottom: 4px;\n",
              "    }\n",
              "\n",
              "    [theme=dark] .colab-df-convert {\n",
              "      background-color: #3B4455;\n",
              "      fill: #D2E3FC;\n",
              "    }\n",
              "\n",
              "    [theme=dark] .colab-df-convert:hover {\n",
              "      background-color: #434B5C;\n",
              "      box-shadow: 0px 1px 3px 1px rgba(0, 0, 0, 0.15);\n",
              "      filter: drop-shadow(0px 1px 2px rgba(0, 0, 0, 0.3));\n",
              "      fill: #FFFFFF;\n",
              "    }\n",
              "  </style>\n",
              "\n",
              "    <script>\n",
              "      const buttonEl =\n",
              "        document.querySelector('#df-5056c678-df07-4619-8e37-5e9fee7d7b6c button.colab-df-convert');\n",
              "      buttonEl.style.display =\n",
              "        google.colab.kernel.accessAllowed ? 'block' : 'none';\n",
              "\n",
              "      async function convertToInteractive(key) {\n",
              "        const element = document.querySelector('#df-5056c678-df07-4619-8e37-5e9fee7d7b6c');\n",
              "        const dataTable =\n",
              "          await google.colab.kernel.invokeFunction('convertToInteractive',\n",
              "                                                    [key], {});\n",
              "        if (!dataTable) return;\n",
              "\n",
              "        const docLinkHtml = 'Like what you see? Visit the ' +\n",
              "          '<a target=\"_blank\" href=https://colab.research.google.com/notebooks/data_table.ipynb>data table notebook</a>'\n",
              "          + ' to learn more about interactive tables.';\n",
              "        element.innerHTML = '';\n",
              "        dataTable['output_type'] = 'display_data';\n",
              "        await google.colab.output.renderOutput(dataTable, element);\n",
              "        const docLink = document.createElement('div');\n",
              "        docLink.innerHTML = docLinkHtml;\n",
              "        element.appendChild(docLink);\n",
              "      }\n",
              "    </script>\n",
              "  </div>\n",
              "\n",
              "\n",
              "    </div>\n",
              "  </div>\n"
            ],
            "application/vnd.google.colaboratory.intrinsic+json": {
              "type": "dataframe",
              "repr_error": "Out of range float values are not JSON compliant: nan"
            }
          },
          "metadata": {},
          "execution_count": 11
        }
      ]
    },
    {
      "cell_type": "markdown",
      "source": [
        "# Region Mapping"
      ],
      "metadata": {
        "id": "1BWZbtVy3k-1"
      }
    },
    {
      "cell_type": "code",
      "source": [
        "region_mapping = {\n",
        "    'Algeria': 'North Africa',\n",
        "    'Egypt': 'North Africa',\n",
        "    'Libya': 'North Africa',\n",
        "    'Morocco': 'North Africa',\n",
        "    'Sudan': 'North Africa',\n",
        "    'Tunisia': 'North Africa',\n",
        "    'Benin': 'West Africa',\n",
        "    'Burkina Faso': 'West Africa',\n",
        "    'Cabo Verde': 'West Africa',\n",
        "    \"Cote d'Ivorie\": 'West Africa',\n",
        "    'Gambia': 'West Africa',\n",
        "    'Ghana': 'West Africa',\n",
        "    'Guinea': 'West Africa',\n",
        "    'Guinea-Bissau': 'West Africa',\n",
        "    'Liberia': 'West Africa',\n",
        "    'Mali': 'West Africa',\n",
        "    'Mauritania': 'West Africa',\n",
        "    'Niger' : 'West Africa',\n",
        "    'Nigeria': 'West Africa',\n",
        "    'Senegal': 'West Africa',\n",
        "    'Sierra Leone': 'West Africa',\n",
        "    'Togo': 'West Africa',\n",
        "    'Burundi': 'East Africa',\n",
        "    'Comoros': 'East Africa',\n",
        "    'Djibouti': 'East Africa',\n",
        "    'Eritrea': 'East Africa',\n",
        "    'Ethiopia': 'East Africa',\n",
        "    'Kenya': 'East Africa',\n",
        "    'Madagascar': 'East Africa',\n",
        "    'Malawi': 'East Africa',\n",
        "    'Mauritius': 'East Africa',\n",
        "    'Mozambique': 'East Africa',\n",
        "    'Rwanda': 'East Africa',\n",
        "    'Seychelles': 'East Africa',\n",
        "    'Somalia': 'East Africa',\n",
        "    'South Sudan': 'East Africa',\n",
        "    'Tanzania': 'East Africa',\n",
        "    'Uganda': 'East Africa',\n",
        "    'Zambia': 'East Africa',\n",
        "    'Zimbabwe': 'East Africa',\n",
        "    'Angola': 'Central Africa',\n",
        "    'Cameroon':'Central Africa',\n",
        "    'Central African Republic': 'Central Africa',\n",
        "    'Chad': 'Central Africa',\n",
        "    'Congo (Brazzaville)': 'Central Africa',\n",
        "    'Congo (Kinshasa)': 'Central Africa',\n",
        "    'Equatorial Guinea': 'Central Africa',\n",
        "    'Gabon': 'Central Africa',\n",
        "    'Sao Tome and Principe': 'Central Africa',\n",
        "    'Botswana': 'South Africa',\n",
        "    'Eswantini': 'South Africa',\n",
        "    'Lesotho': 'South Africa',\n",
        "    'Namibia': 'South Africa',\n",
        "    'South Africa': 'South Africa',\n",
        "    'Canada': 'North America',\n",
        "    'United States': 'North America',\n",
        "    'Mexico': 'North America',\n",
        "    'Belize': 'Central America',\n",
        "    'Costa Rica': 'Central America',\n",
        "    'El Salvador': 'Central America',\n",
        "    'Guatemala': 'Central America',\n",
        "    'Honduras': 'Central America',\n",
        "    'Nicaragua': 'Central America',\n",
        "    'Panama Caribbean': 'Central America',\n",
        "    'Antigua and Barbuda': 'Central America',\n",
        "    'Bahamas': 'Central America',\n",
        "    'Barbados': 'Central America',\n",
        "    'Cuba': 'Central America',\n",
        "    'Dominica': 'Central America',\n",
        "    'Dominican Republic': 'Central America',\n",
        "    'Grenada': 'Central America',\n",
        "    'Haiti': 'Central America',\n",
        "    'Jamaica': 'Central America',\n",
        "    'Saint Kitts and Nevis': 'Central America',\n",
        "    'Saint Lucia': 'Central America',\n",
        "    'Saint Vincent and the Grenadines': 'Central America',\n",
        "    'Trinidad and Tobago': 'Central America',\n",
        "    'Argentina': 'South America',\n",
        "    'Bolivia': 'South America',\n",
        "    'Brazil': 'South America',\n",
        "    'Chile': 'South America',\n",
        "    'Colombia': 'South America',\n",
        "    'Ecuador': 'South America',\n",
        "    'Guyana': 'South America',\n",
        "    'Paraguay': 'South America',\n",
        "    'Peru': 'South America',\n",
        "    'Suriname': 'South America',\n",
        "    'Uruguay': 'South America',\n",
        "    'Venezuela': 'South America',\n",
        "    'Bahrain': 'Middle East',\n",
        "    'Iran': 'Middle East',\n",
        "    'Iraq': 'Middle East',\n",
        "    'Israel': 'Middle East',\n",
        "    'Jordan': 'Middle East',\n",
        "    'Kuwait': 'Middle East',\n",
        "    'Lebanon': 'Middle East',\n",
        "    'Oman': 'Middle East',\n",
        "    'Palestine (West Bank and Gaza)': 'Middle East',\n",
        "    'Qatar': 'Middle East',\n",
        "    'Saudi': 'Middle East',\n",
        "    'Arabia': 'Middle East',\n",
        "    'Syria': 'Middle East',\n",
        "    'United Arab Emirates': 'Middle East',\n",
        "    'Yemen': 'Middle East',\n",
        "    'Turkey': 'Middle East',\n",
        "    'Kazakhstan': 'Central Asia',\n",
        "    'Tajikistan': 'Central Asia',\n",
        "    'Uzbekistan': 'Central Asia',\n",
        "    'Afghanistan': 'South Asia',\n",
        "    'Bangladesh': 'South Asia',\n",
        "    'Bhutan': 'South Asia',\n",
        "    'India': 'South Asia',\n",
        "    'Maladives': 'South Asia',\n",
        "    'Nepal': 'South Asia',\n",
        "    'Pakistan': 'South Asia',\n",
        "    'Sri Lanka': 'South Asia',\n",
        "    'Brunei': 'Southeast Asia',\n",
        "    'Burma': 'Southeast Asia',\n",
        "    'Cambodia': 'Southeast Asia',\n",
        "    'Indonesia': 'Southeast Asia',\n",
        "    'Laos': 'Southeast Asia',\n",
        "    'Malaysia': 'Southeast Asia',\n",
        "    'Philippines': 'Southeast Asia',\n",
        "    'Singapore': 'Southeast Asia',\n",
        "    'Thailand': 'Southeast Asia',\n",
        "    'Timor-Leste': 'Southeast Asia',\n",
        "    'Vietnam': 'Southeast Asia',\n",
        "    'China': 'East Asia',\n",
        "    'Japan': 'East Asia',\n",
        "    'Korea, South': 'East Asia',\n",
        "    'Korea, North': 'East Asia',\n",
        "    'Mongolia': 'East Asia',\n",
        "    'Taiwan*': 'East Asia',\n",
        "    'Denmark': 'North Europe',\n",
        "    'Estonia': 'North Europe',\n",
        "    'Finland': 'North Europe',\n",
        "    'Iceland': 'North Europe',\n",
        "    'Latvia': 'North Europe',\n",
        "    'Lithuania': 'North Europe',\n",
        "    'Norway': 'North Europe',\n",
        "    'Sweden': 'North Europe',\n",
        "    'United Kingdom': 'North Europe',\n",
        "    'Austria': 'West Europe',\n",
        "    'Belgium': 'West Europe',\n",
        "    'France': 'West Europe',\n",
        "    'Germany': 'West Europe',\n",
        "    'Liechtenstein': 'West Europe',\n",
        "    'Luxembourg': 'West Europe',\n",
        "    'Monaco': 'West Europe',\n",
        "    'Netherlands': 'West Europe',\n",
        "    'Switzerland': 'West Europe',\n",
        "    'Albania': 'South Europe',\n",
        "    'Andorra': 'South Europe',\n",
        "    'Bosnia and Herzegovina': 'South Europe',\n",
        "    'Croatia': 'South Europe',\n",
        "    'Greece': 'South Europe',\n",
        "    'Holy See': 'South Europe',\n",
        "    'Italy': 'South Europe',\n",
        "    'Kosovo': 'South Europe',\n",
        "    'Malta': 'South Europe',\n",
        "    'Montenegro': 'South Europe',\n",
        "    'North Macedonia': 'South Europe',\n",
        "    'Portugal': 'South Europe',\n",
        "    'San Marino': 'South Europe',\n",
        "    'Serbia': 'South Europe',\n",
        "    'Slovenia': 'South Europe',\n",
        "    'Spain': 'South Europe',\n",
        "    'Armenia': 'East Europe',\n",
        "    'Azerbaijan': 'East Europe',\n",
        "    'Belarus': 'East Europe',\n",
        "    'Bulgaria': 'East Europe',\n",
        "    'Czechia': 'East Europe',\n",
        "    'Georgia': 'East Europe',\n",
        "    'Hungary': 'East Europe',\n",
        "    'Moldova': 'East Europe',\n",
        "    'Poland': 'East Europe',\n",
        "    'Romania': 'East Europe',\n",
        "    'Russia': 'East Europe',\n",
        "    'Slovakia': 'East Europe',\n",
        "    'Ukraine': 'East Europe',\n",
        "    'Australia': 'Australia and New Zealand',\n",
        "    'Fiji': 'Melanesia',\n",
        "    'Papua New Guinea': 'Melanesia',\n",
        "    'Solomon Islands': 'Melanesia',\n",
        "    'Vanuatu': 'Melanesia',\n",
        "    'Kiribati': 'Mirconesia',\n",
        "    'Marshall Islands': 'Mirconesia',\n",
        "    'Mirconesia': 'Mirconesia',\n",
        "    'Nauru': 'Mirconesia',\n",
        "    'Palau': 'Mirconesia',\n",
        "    'Samoa': 'Polynesia',\n",
        "    'Tonga': 'Polynesia',\n",
        "    'Tuvalu': 'Polynesia',\n",
        "}"
      ],
      "metadata": {
        "id": "OkZpAJJ4rmIP"
      },
      "execution_count": 14,
      "outputs": []
    },
    {
      "cell_type": "code",
      "source": [
        "df['Place'] = df['Country/Region'].map(region_mapping)\n",
        "regiongroup = df.groupby('Place').sum().reset_index()\n",
        "cleaned = regiongroup.drop(columns=['Country/Region'])\n",
        "#only 19 rows now"
      ],
      "metadata": {
        "id": "JZV4ilQ92Iue"
      },
      "execution_count": 15,
      "outputs": []
    },
    {
      "cell_type": "markdown",
      "source": [
        "\n",
        "\n",
        "---\n",
        "\n"
      ],
      "metadata": {
        "id": "pRIzMdpk0uOo"
      }
    },
    {
      "cell_type": "markdown",
      "source": [
        "# Pop & Slope Impute"
      ],
      "metadata": {
        "id": "conQq-jngFmZ"
      }
    },
    {
      "cell_type": "code",
      "source": [
        "dropcords = cleaned.drop(['Lat','Long'], axis = 1)"
      ],
      "metadata": {
        "id": "MAImC6tk8mSL"
      },
      "execution_count": 16,
      "outputs": []
    },
    {
      "cell_type": "code",
      "source": [
        "dropcords['Slope between 2020 and 2022'] = ((dropcords[2022] - dropcords[2020]) / 2)"
      ],
      "metadata": {
        "id": "lc1epL1JeIaO"
      },
      "execution_count": 17,
      "outputs": []
    },
    {
      "cell_type": "code",
      "source": [
        "dropcords['Region Avg People/Sq Km'] = [4, 108, 210, 159, 190, 314, 86, 31, 222, 257, 53, 35, 65, 219, 40, 24, 557, 334, 885, 104, 3107]"
      ],
      "metadata": {
        "id": "rc1fm35jLDdx"
      },
      "execution_count": 18,
      "outputs": []
    },
    {
      "cell_type": "code",
      "source": [
        "bins = [707004, 428581603, 856456202, 1284330801, 1712205400, 2140080000]\n",
        "labels = ['Very Slow', 'Slow', 'Average', 'Fast', 'Very Fast']\n",
        "\n",
        "dropcords['Infection Speed'] = pd.cut(dropcords['Slope between 2020 and 2022'], bins=bins, labels=labels, include_lowest=True)"
      ],
      "metadata": {
        "id": "TVUKRXrRUkIO"
      },
      "execution_count": 19,
      "outputs": []
    },
    {
      "cell_type": "markdown",
      "source": [
        "# Fix Province/State"
      ],
      "metadata": {
        "id": "RSZr1dxSV2MN"
      }
    },
    {
      "cell_type": "code",
      "source": [
        "LRdroplat = df.drop(['Lat', 'Long'], axis = 1)\n",
        "LRdroplat.shape"
      ],
      "metadata": {
        "colab": {
          "base_uri": "https://localhost:8080/"
        },
        "id": "aSiPYx1-Xdue",
        "outputId": "0dc686e2-0599-4911-f4ca-048b0e7403dc"
      },
      "execution_count": 20,
      "outputs": [
        {
          "output_type": "execute_result",
          "data": {
            "text/plain": [
              "(196, 6)"
            ]
          },
          "metadata": {},
          "execution_count": 20
        }
      ]
    },
    {
      "cell_type": "code",
      "source": [
        "LRsort = LRdroplat.sort_values(by='Place')\n",
        "LRindexed = LRsort.reset_index()\n",
        "LRdropindex = LRindexed.drop(['index'], axis =1)\n",
        "LRnodata = LRdropindex.drop([190,195])\n",
        "LRdata = LRnodata.reset_index()"
      ],
      "metadata": {
        "id": "FZuFXYVWamUv"
      },
      "execution_count": 21,
      "outputs": []
    },
    {
      "cell_type": "code",
      "source": [],
      "metadata": {
        "id": "d9kjfJTOnlx3"
      },
      "execution_count": null,
      "outputs": []
    },
    {
      "cell_type": "code",
      "source": [
        "LRdata['Country People/Sq Km'] = [4, 17, 233, 14, 8, 58, 63, 9, 17, 28, 104, 291, 262, 90, 290, 180, 231, 415,\n",
        "                                  302, 210, 55, 99, 95, 17, 343, 656, 165, 74, 261, 70, 81, 7, 19, 271, 26, 28, 123,\n",
        "                                  92, 48, 72, 41, 444, 28, 558, 41, 233, 506, 629, 51, 215, 332, 218, 523, 2, 148, 668,\n",
        "                                  107, 101, 125, 124, 83, 63, 9, 72, 92, 63, 111, 137, 55, 22, 26, 50, 25, 255, 560, 125,\n",
        "                                  248, 15, 417, 120, 54, 71, 1943, 141, 112, 100, 587, 226, 39, 178, 77, 112, 18, 83, 4,\n",
        "                                  27, 65, 4, 18, 4, 280, 25, 18, 31, 45, 138, 30, 336, 162, 159, 50, 4, 74, 3, 4, 16, 26, 31,\n",
        "                                  20, 71, 4, 11, 46, 26, 16, 25, 363, 62, 1296, 20, 200, 313, 477, 74, 103, 168, 63, 70, 80, 95,\n",
        "                                  201, 158, 104, 89, 1265, 113, 562, 44, 1669, 140, 316, 378, 78, 82, 94, 91, 32,\n",
        "                                  105, 8274, 145, 242, 114, 19, 120, 55, 81, 74, 128, 56, 165, 4, 90, 258, 144, 18, 249, 530, 120,\n",
        "                                  383, 241, 109, 169, 25917, 244, 94, 143, 69, 74, 36, 1723, 19, 59, 14, 37]"
      ],
      "metadata": {
        "id": "JQRaOkvcXwst"
      },
      "execution_count": 22,
      "outputs": []
    },
    {
      "cell_type": "code",
      "source": [
        "LRdata['Slope between 2020 and 2022'] = ((LRdata[2022] - LRdata[2020]) / 2)"
      ],
      "metadata": {
        "id": "3Tm83GxQ2Mfk"
      },
      "execution_count": 23,
      "outputs": []
    },
    {
      "cell_type": "code",
      "source": [
        "bins = [\n",
        "    116.0,\n",
        "    3_011_770_092.8,\n",
        "    6_023_540_069.6,\n",
        "    9_035_310_046.4,\n",
        "    12_047_080_023.2,\n",
        "    15_058_850_000.0\n",
        "]\n",
        "labels = ['Very Slow', 'Slow', 'Average', 'Fast', 'Very Fast']\n",
        "\n",
        "LRdata['Infection Speed'] = pd.cut(LRdata['Slope between 2020 and 2022'], bins=bins, labels=labels, include_lowest=True, right=False)"
      ],
      "metadata": {
        "id": "-R12Q96vJiPw"
      },
      "execution_count": 24,
      "outputs": []
    },
    {
      "cell_type": "code",
      "source": [
        "LRdata['log_pop'] = np.log(LRdata['Country People/Sq Km'])\n",
        "LRdata['log_slope'] = np.log(LRdata['Slope between 2020 and 2022'])\n",
        "\n",
        "# Plot the original data and the log-transformed data\n",
        "import matplotlib.pyplot as plt\n",
        "#plt.hist(data, bins=50, label='Original Data')\n",
        "plt.hist(log_pop, bins=50, label='Log-Transformed Data')\n",
        "plt.legend()\n",
        "plt.show()"
      ],
      "metadata": {
        "colab": {
          "base_uri": "https://localhost:8080/",
          "height": 430
        },
        "id": "icz0bPaqoDS3",
        "outputId": "e69e0e1a-06ec-4c88-d88f-1e3e6855b78c"
      },
      "execution_count": 82,
      "outputs": [
        {
          "output_type": "display_data",
          "data": {
            "text/plain": [
              "<Figure size 640x480 with 1 Axes>"
            ],
            "image/png": "[encoded data removed]"
          },
          "metadata": {}
        }
      ]
    },
    {
      "cell_type": "markdown",
      "source": [
        "# Stat Anaz"
      ],
      "metadata": {
        "id": "VC_-2avDINgo"
      }
    },
    {
      "cell_type": "markdown",
      "source": [
        "### Region Statistics"
      ],
      "metadata": {
        "id": "txSZT8YSthyf"
      }
    },
    {
      "cell_type": "markdown",
      "source": [
        "##### Correlation"
      ],
      "metadata": {
        "id": "zTfm0qI2tonI"
      }
    },
    {
      "cell_type": "code",
      "source": [
        "dropcords.corr(numeric_only = True)"
      ],
      "metadata": {
        "colab": {
          "base_uri": "https://localhost:8080/",
          "height": 0
        },
        "id": "7NAvgETOIMUp",
        "outputId": "6e8d8eb0-fa73-4eca-cf84-7469d687d20f"
      },
      "execution_count": 63,
      "outputs": [
        {
          "output_type": "execute_result",
          "data": {
            "text/plain": [
              "                                 2020      2021      2022      2023  \\\n",
              "2020                         1.000000  0.978109  0.743936  0.613456   \n",
              "2021                         0.978109  1.000000  0.823572  0.687199   \n",
              "2022                         0.743936  0.823572  1.000000  0.966313   \n",
              "2023                         0.613456  0.687199  0.966313  1.000000   \n",
              "Slope between 2020 and 2022  0.721361  0.804981  0.999450  0.971014   \n",
              "Region Avg People/Sq Km      0.147506  0.233418  0.594589  0.611376   \n",
              "\n",
              "                             Slope between 2020 and 2022  \\\n",
              "2020                                            0.721361   \n",
              "2021                                            0.804981   \n",
              "2022                                            0.999450   \n",
              "2023                                            0.971014   \n",
              "Slope between 2020 and 2022                     1.000000   \n",
              "Region Avg People/Sq Km                         0.608896   \n",
              "\n",
              "                             Region Avg People/Sq Km  \n",
              "2020                                        0.147506  \n",
              "2021                                        0.233418  \n",
              "2022                                        0.594589  \n",
              "2023                                        0.611376  \n",
              "Slope between 2020 and 2022                 0.608896  \n",
              "Region Avg People/Sq Km                     1.000000  "
            ],
            "text/html": [
              "\n",
              "  <div id=\"df-802ee602-488c-4216-8572-8e055a56424b\" class=\"colab-df-container\">\n",
              "    <div>\n",
              "<style scoped>\n",
              "    .dataframe tbody tr th:only-of-type {\n",
              "        vertical-align: middle;\n",
              "    }\n",
              "\n",
              "    .dataframe tbody tr th {\n",
              "        vertical-align: top;\n",
              "    }\n",
              "\n",
              "    .dataframe thead th {\n",
              "        text-align: right;\n",
              "    }\n",
              "</style>\n",
              "<table border=\"1\" class=\"dataframe\">\n",
              "  <thead>\n",
              "    <tr style=\"text-align: right;\">\n",
              "      <th></th>\n",
              "      <th>2020</th>\n",
              "      <th>2021</th>\n",
              "      <th>2022</th>\n",
              "      <th>2023</th>\n",
              "      <th>Slope between 2020 and 2022</th>\n",
              "      <th>Region Avg People/Sq Km</th>\n",
              "    </tr>\n",
              "  </thead>\n",
              "  <tbody>\n",
              "    <tr>\n",
              "      <th>2020</th>\n",
              "      <td>1.000000</td>\n",
              "      <td>0.978109</td>\n",
              "      <td>0.743936</td>\n",
              "      <td>0.613456</td>\n",
              "      <td>0.721361</td>\n",
              "      <td>0.147506</td>\n",
              "    </tr>\n",
              "    <tr>\n",
              "      <th>2021</th>\n",
              "      <td>0.978109</td>\n",
              "      <td>1.000000</td>\n",
              "      <td>0.823572</td>\n",
              "      <td>0.687199</td>\n",
              "      <td>0.804981</td>\n",
              "      <td>0.233418</td>\n",
              "    </tr>\n",
              "    <tr>\n",
              "      <th>2022</th>\n",
              "      <td>0.743936</td>\n",
              "      <td>0.823572</td>\n",
              "      <td>1.000000</td>\n",
              "      <td>0.966313</td>\n",
              "      <td>0.999450</td>\n",
              "      <td>0.594589</td>\n",
              "    </tr>\n",
              "    <tr>\n",
              "      <th>2023</th>\n",
              "      <td>0.613456</td>\n",
              "      <td>0.687199</td>\n",
              "      <td>0.966313</td>\n",
              "      <td>1.000000</td>\n",
              "      <td>0.971014</td>\n",
              "      <td>0.611376</td>\n",
              "    </tr>\n",
              "    <tr>\n",
              "      <th>Slope between 2020 and 2022</th>\n",
              "      <td>0.721361</td>\n",
              "      <td>0.804981</td>\n",
              "      <td>0.999450</td>\n",
              "      <td>0.971014</td>\n",
              "      <td>1.000000</td>\n",
              "      <td>0.608896</td>\n",
              "    </tr>\n",
              "    <tr>\n",
              "      <th>Region Avg People/Sq Km</th>\n",
              "      <td>0.147506</td>\n",
              "      <td>0.233418</td>\n",
              "      <td>0.594589</td>\n",
              "      <td>0.611376</td>\n",
              "      <td>0.608896</td>\n",
              "      <td>1.000000</td>\n",
              "    </tr>\n",
              "  </tbody>\n",
              "</table>\n",
              "</div>\n",
              "    <div class=\"colab-df-buttons\">\n",
              "\n",
              "  <div class=\"colab-df-container\">\n",
              "    <button class=\"colab-df-convert\" onclick=\"convertToInteractive('df-802ee602-488c-4216-8572-8e055a56424b')\"\n",
              "            title=\"Convert this dataframe to an interactive table.\"\n",
              "            style=\"display:none;\">\n",
              "\n",
              "  <svg xmlns=\"http://www.w3.org/2000/svg\" height=\"24px\" viewBox=\"0 -960 960 960\">\n",
              "    <path d=\"M120-120v-720h720v720H120Zm60-500h600v-160H180v160Zm220 220h160v-160H400v160Zm0 220h160v-160H400v160ZM180-400h160v-160H180v160Zm440 0h160v-160H620v160ZM180-180h160v-160H180v160Zm440 0h160v-160H620v160Z\"/>\n",
              "  </svg>\n",
              "    </button>\n",
              "\n",
              "  <style>\n",
              "    .colab-df-container {\n",
              "      display:flex;\n",
              "      gap: 12px;\n",
              "    }\n",
              "\n",
              "    .colab-df-convert {\n",
              "      background-color: #E8F0FE;\n",
              "      border: none;\n",
              "      border-radius: 50%;\n",
              "      cursor: pointer;\n",
              "      display: none;\n",
              "      fill: #1967D2;\n",
              "      height: 32px;\n",
              "      padding: 0 0 0 0;\n",
              "      width: 32px;\n",
              "    }\n",
              "\n",
              "    .colab-df-convert:hover {\n",
              "      background-color: #E2EBFA;\n",
              "      box-shadow: 0px 1px 2px rgba(60, 64, 67, 0.3), 0px 1px 3px 1px rgba(60, 64, 67, 0.15);\n",
              "      fill: #174EA6;\n",
              "    }\n",
              "\n",
              "    .colab-df-buttons div {\n",
              "      margin-bottom: 4px;\n",
              "    }\n",
              "\n",
              "    [theme=dark] .colab-df-convert {\n",
              "      background-color: #3B4455;\n",
              "      fill: #D2E3FC;\n",
              "    }\n",
              "\n",
              "    [theme=dark] .colab-df-convert:hover {\n",
              "      background-color: #434B5C;\n",
              "      box-shadow: 0px 1px 3px 1px rgba(0, 0, 0, 0.15);\n",
              "      filter: drop-shadow(0px 1px 2px rgba(0, 0, 0, 0.3));\n",
              "      fill: #FFFFFF;\n",
              "    }\n",
              "  </style>\n",
              "\n",
              "    <script>\n",
              "      const buttonEl =\n",
              "        document.querySelector('#df-802ee602-488c-4216-8572-8e055a56424b button.colab-df-convert');\n",
              "      buttonEl.style.display =\n",
              "        google.colab.kernel.accessAllowed ? 'block' : 'none';\n",
              "\n",
              "      async function convertToInteractive(key) {\n",
              "        const element = document.querySelector('#df-802ee602-488c-4216-8572-8e055a56424b');\n",
              "        const dataTable =\n",
              "          await google.colab.kernel.invokeFunction('convertToInteractive',\n",
              "                                                    [key], {});\n",
              "        if (!dataTable) return;\n",
              "\n",
              "        const docLinkHtml = 'Like what you see? Visit the ' +\n",
              "          '<a target=\"_blank\" href=https://colab.research.google.com/notebooks/data_table.ipynb>data table notebook</a>'\n",
              "          + ' to learn more about interactive tables.';\n",
              "        element.innerHTML = '';\n",
              "        dataTable['output_type'] = 'display_data';\n",
              "        await google.colab.output.renderOutput(dataTable, element);\n",
              "        const docLink = document.createElement('div');\n",
              "        docLink.innerHTML = docLinkHtml;\n",
              "        element.appendChild(docLink);\n",
              "      }\n",
              "    </script>\n",
              "  </div>\n",
              "\n",
              "\n",
              "    <div id=\"df-9220089b-6d5f-402f-affe-b8dd74bf9942\">\n",
              "      <button class=\"colab-df-quickchart\" onclick=\"quickchart('df-9220089b-6d5f-402f-affe-b8dd74bf9942')\"\n",
              "                title=\"Suggest charts\"\n",
              "                style=\"display:none;\">\n",
              "\n",
              "<svg xmlns=\"http://www.w3.org/2000/svg\" height=\"24px\"viewBox=\"0 0 24 24\"\n",
              "     width=\"24px\">\n",
              "    <g>\n",
              "        <path d=\"M19 3H5c-1.1 0-2 .9-2 2v14c0 1.1.9 2 2 2h14c1.1 0 2-.9 2-2V5c0-1.1-.9-2-2-2zM9 17H7v-7h2v7zm4 0h-2V7h2v10zm4 0h-2v-4h2v4z\"/>\n",
              "    </g>\n",
              "</svg>\n",
              "      </button>\n",
              "\n",
              "<style>\n",
              "  .colab-df-quickchart {\n",
              "      --bg-color: #E8F0FE;\n",
              "      --fill-color: #1967D2;\n",
              "      --hover-bg-color: #E2EBFA;\n",
              "      --hover-fill-color: #174EA6;\n",
              "      --disabled-fill-color: #AAA;\n",
              "      --disabled-bg-color: #DDD;\n",
              "  }\n",
              "\n",
              "  [theme=dark] .colab-df-quickchart {\n",
              "      --bg-color: #3B4455;\n",
              "      --fill-color: #D2E3FC;\n",
              "      --hover-bg-color: #434B5C;\n",
              "      --hover-fill-color: #FFFFFF;\n",
              "      --disabled-bg-color: #3B4455;\n",
              "      --disabled-fill-color: #666;\n",
              "  }\n",
              "\n",
              "  .colab-df-quickchart {\n",
              "    background-color: var(--bg-color);\n",
              "    border: none;\n",
              "    border-radius: 50%;\n",
              "    cursor: pointer;\n",
              "    display: none;\n",
              "    fill: var(--fill-color);\n",
              "    height: 32px;\n",
              "    padding: 0;\n",
              "    width: 32px;\n",
              "  }\n",
              "\n",
              "  .colab-df-quickchart:hover {\n",
              "    background-color: var(--hover-bg-color);\n",
              "    box-shadow: 0 1px 2px rgba(60, 64, 67, 0.3), 0 1px 3px 1px rgba(60, 64, 67, 0.15);\n",
              "    fill: var(--button-hover-fill-color);\n",
              "  }\n",
              "\n",
              "  .colab-df-quickchart-complete:disabled,\n",
              "  .colab-df-quickchart-complete:disabled:hover {\n",
              "    background-color: var(--disabled-bg-color);\n",
              "    fill: var(--disabled-fill-color);\n",
              "    box-shadow: none;\n",
              "  }\n",
              "\n",
              "  .colab-df-spinner {\n",
              "    border: 2px solid var(--fill-color);\n",
              "    border-color: transparent;\n",
              "    border-bottom-color: var(--fill-color);\n",
              "    animation:\n",
              "      spin 1s steps(1) infinite;\n",
              "  }\n",
              "\n",
              "  @keyframes spin {\n",
              "    0% {\n",
              "      border-color: transparent;\n",
              "      border-bottom-color: var(--fill-color);\n",
              "      border-left-color: var(--fill-color);\n",
              "    }\n",
              "    20% {\n",
              "      border-color: transparent;\n",
              "      border-left-color: var(--fill-color);\n",
              "      border-top-color: var(--fill-color);\n",
              "    }\n",
              "    30% {\n",
              "      border-color: transparent;\n",
              "      border-left-color: var(--fill-color);\n",
              "      border-top-color: var(--fill-color);\n",
              "      border-right-color: var(--fill-color);\n",
              "    }\n",
              "    40% {\n",
              "      border-color: transparent;\n",
              "      border-right-color: var(--fill-color);\n",
              "      border-top-color: var(--fill-color);\n",
              "    }\n",
              "    60% {\n",
              "      border-color: transparent;\n",
              "      border-right-color: var(--fill-color);\n",
              "    }\n",
              "    80% {\n",
              "      border-color: transparent;\n",
              "      border-right-color: var(--fill-color);\n",
              "      border-bottom-color: var(--fill-color);\n",
              "    }\n",
              "    90% {\n",
              "      border-color: transparent;\n",
              "      border-bottom-color: var(--fill-color);\n",
              "    }\n",
              "  }\n",
              "</style>\n",
              "\n",
              "      <script>\n",
              "        async function quickchart(key) {\n",
              "          const quickchartButtonEl =\n",
              "            document.querySelector('#' + key + ' button');\n",
              "          quickchartButtonEl.disabled = true;  // To prevent multiple clicks.\n",
              "          quickchartButtonEl.classList.add('colab-df-spinner');\n",
              "          try {\n",
              "            const charts = await google.colab.kernel.invokeFunction(\n",
              "                'suggestCharts', [key], {});\n",
              "          } catch (error) {\n",
              "            console.error('Error during call to suggestCharts:', error);\n",
              "          }\n",
              "          quickchartButtonEl.classList.remove('colab-df-spinner');\n",
              "          quickchartButtonEl.classList.add('colab-df-quickchart-complete');\n",
              "        }\n",
              "        (() => {\n",
              "          let quickchartButtonEl =\n",
              "            document.querySelector('#df-9220089b-6d5f-402f-affe-b8dd74bf9942 button');\n",
              "          quickchartButtonEl.style.display =\n",
              "            google.colab.kernel.accessAllowed ? 'block' : 'none';\n",
              "        })();\n",
              "      </script>\n",
              "    </div>\n",
              "\n",
              "    </div>\n",
              "  </div>\n"
            ],
            "application/vnd.google.colaboratory.intrinsic+json": {
              "type": "dataframe",
              "summary": "{\n  \"name\": \"dropcords\",\n  \"rows\": 6,\n  \"fields\": [\n    {\n      \"column\": 2020,\n      \"properties\": {\n        \"dtype\": \"number\",\n        \"std\": 0.3106340930585693,\n        \"min\": 0.14750615496201117,\n        \"max\": 1.0,\n        \"num_unique_values\": 6,\n        \"samples\": [\n          1.0,\n          0.9781093605278631,\n          0.14750615496201117\n        ],\n        \"semantic_type\": \"\",\n        \"description\": \"\"\n      }\n    },\n    {\n      \"column\": 2021,\n      \"properties\": {\n        \"dtype\": \"number\",\n        \"std\": 0.2805875608678431,\n        \"min\": 0.23341764949722052,\n        \"max\": 1.0,\n        \"num_unique_values\": 6,\n        \"samples\": [\n          0.9781093605278631,\n          1.0,\n          0.23341764949722052\n        ],\n        \"semantic_type\": \"\",\n        \"description\": \"\"\n      }\n    },\n    {\n      \"column\": 2022,\n      \"properties\": {\n        \"dtype\": \"number\",\n        \"std\": 0.1645705593327639,\n        \"min\": 0.5945889478944653,\n        \"max\": 1.0,\n        \"num_unique_values\": 6,\n        \"samples\": [\n          0.743935950713088,\n          0.8235721531846713,\n          0.5945889478944653\n        ],\n        \"semantic_type\": \"\",\n        \"description\": \"\"\n      }\n    },\n    {\n      \"column\": 2023,\n      \"properties\": {\n        \"dtype\": \"number\",\n        \"std\": 0.18952650716117422,\n        \"min\": 0.6113760069192,\n        \"max\": 1.0,\n        \"num_unique_values\": 6,\n        \"samples\": [\n          0.6134555365798608,\n          0.6871990132808037,\n          0.6113760069192\n        ],\n        \"semantic_type\": \"\",\n        \"description\": \"\"\n      }\n    },\n    {\n      \"column\": \"Slope between 2020 and 2022\",\n      \"properties\": {\n        \"dtype\": \"number\",\n        \"std\": 0.1650332957809776,\n        \"min\": 0.6088959251586286,\n        \"max\": 1.0,\n        \"num_unique_values\": 6,\n        \"samples\": [\n          0.7213612255316272,\n          0.8049808108197775,\n          0.6088959251586286\n        ],\n        \"semantic_type\": \"\",\n        \"description\": \"\"\n      }\n    },\n    {\n      \"column\": \"Region Avg People/Sq Km\",\n      \"properties\": {\n        \"dtype\": \"number\",\n        \"std\": 0.3072912168535883,\n        \"min\": 0.14750615496201117,\n        \"max\": 1.0,\n        \"num_unique_values\": 6,\n        \"samples\": [\n          0.14750615496201117,\n          0.23341764949722052,\n          1.0\n        ],\n        \"semantic_type\": \"\",\n        \"description\": \"\"\n      }\n    }\n  ]\n}"
            }
          },
          "metadata": {},
          "execution_count": 63
        }
      ]
    },
    {
      "cell_type": "markdown",
      "source": [
        "##### T-Test"
      ],
      "metadata": {
        "id": "88gWm8f_tw5F"
      }
    },
    {
      "cell_type": "code",
      "source": [
        "df_R2022 = dropcords[2022]\n",
        "Rpop_density = dropcords[\"Region Avg People/Sq Km\"]\n",
        "Rinfection_rate = dropcords[\"Slope between 2020 and 2022\"]\n",
        "t_stat, p_val = ttest_rel(Rpop_density, Rinfection_rate)\n",
        "\n",
        "\n",
        "print(\"Paired T-Test Between Population Density and Infection Rate (2022):\")\n",
        "print(f\"T-Statistic: {t_stat}\")\n",
        "print(f\"P-Value: {p_val}\")\n",
        "\n",
        "if p_val < 0.05:\n",
        "    print(\"There is a significant difference.\")\n",
        "else:\n",
        "    print(\"No significant difference found.\")"
      ],
      "metadata": {
        "colab": {
          "base_uri": "https://localhost:8080/"
        },
        "id": "3OD8ED4co940",
        "outputId": "c066fee1-70c5-4df8-ebfe-df71cd97c359"
      },
      "execution_count": 64,
      "outputs": [
        {
          "output_type": "stream",
          "name": "stdout",
          "text": [
            "Paired T-Test Between Population Density and Infection Rate (2022):\n",
            "T-Statistic: -4.111917136887277\n",
            "P-Value: 0.0005415195282484531\n",
            "There is a significant difference.\n"
          ]
        }
      ]
    },
    {
      "cell_type": "markdown",
      "source": [
        "### Country Statistics"
      ],
      "metadata": {
        "id": "AfaMXkdyt05D"
      }
    },
    {
      "cell_type": "markdown",
      "source": [
        "##### Correlation"
      ],
      "metadata": {
        "id": "zqHVhsCit60y"
      }
    },
    {
      "cell_type": "code",
      "source": [
        "LRdata.corr(numeric_only = True)"
      ],
      "metadata": {
        "colab": {
          "base_uri": "https://localhost:8080/",
          "height": 0
        },
        "id": "DWNz_gLdITxu",
        "outputId": "b9ce6a3d-9401-4bb4-8d43-7fd2ad61d5b8"
      },
      "execution_count": 65,
      "outputs": [
        {
          "output_type": "execute_result",
          "data": {
            "text/plain": [
              "                                index      2020      2021      2022      2023  \\\n",
              "index                        1.000000  0.165222  0.169518  0.190892  0.177337   \n",
              "2020                         0.165222  1.000000  0.990880  0.917312  0.863589   \n",
              "2021                         0.169518  0.990880  1.000000  0.938966  0.885000   \n",
              "2022                         0.190892  0.917312  0.938966  1.000000  0.986553   \n",
              "2023                         0.177337  0.863589  0.885000  0.986553  1.000000   \n",
              "Country People/Sq Km         0.135309 -0.022516 -0.025592 -0.026031 -0.024008   \n",
              "Slope between 2020 and 2022  0.191399  0.908203  0.931474  0.999751  0.988626   \n",
              "\n",
              "                             Country People/Sq Km  Slope between 2020 and 2022  \n",
              "index                                    0.135309                     0.191399  \n",
              "2020                                    -0.022516                     0.908203  \n",
              "2021                                    -0.025592                     0.931474  \n",
              "2022                                    -0.026031                     0.999751  \n",
              "2023                                    -0.024008                     0.988626  \n",
              "Country People/Sq Km                     1.000000                    -0.026101  \n",
              "Slope between 2020 and 2022             -0.026101                     1.000000  "
            ],
            "text/html": [
              "\n",
              "  <div id=\"df-f33755de-045e-4c5a-8349-d92fea0d9f02\" class=\"colab-df-container\">\n",
              "    <div>\n",
              "<style scoped>\n",
              "    .dataframe tbody tr th:only-of-type {\n",
              "        vertical-align: middle;\n",
              "    }\n",
              "\n",
              "    .dataframe tbody tr th {\n",
              "        vertical-align: top;\n",
              "    }\n",
              "\n",
              "    .dataframe thead th {\n",
              "        text-align: right;\n",
              "    }\n",
              "</style>\n",
              "<table border=\"1\" class=\"dataframe\">\n",
              "  <thead>\n",
              "    <tr style=\"text-align: right;\">\n",
              "      <th></th>\n",
              "      <th>index</th>\n",
              "      <th>2020</th>\n",
              "      <th>2021</th>\n",
              "      <th>2022</th>\n",
              "      <th>2023</th>\n",
              "      <th>Country People/Sq Km</th>\n",
              "      <th>Slope between 2020 and 2022</th>\n",
              "    </tr>\n",
              "  </thead>\n",
              "  <tbody>\n",
              "    <tr>\n",
              "      <th>index</th>\n",
              "      <td>1.000000</td>\n",
              "      <td>0.165222</td>\n",
              "      <td>0.169518</td>\n",
              "      <td>0.190892</td>\n",
              "      <td>0.177337</td>\n",
              "      <td>0.135309</td>\n",
              "      <td>0.191399</td>\n",
              "    </tr>\n",
              "    <tr>\n",
              "      <th>2020</th>\n",
              "      <td>0.165222</td>\n",
              "      <td>1.000000</td>\n",
              "      <td>0.990880</td>\n",
              "      <td>0.917312</td>\n",
              "      <td>0.863589</td>\n",
              "      <td>-0.022516</td>\n",
              "      <td>0.908203</td>\n",
              "    </tr>\n",
              "    <tr>\n",
              "      <th>2021</th>\n",
              "      <td>0.169518</td>\n",
              "      <td>0.990880</td>\n",
              "      <td>1.000000</td>\n",
              "      <td>0.938966</td>\n",
              "      <td>0.885000</td>\n",
              "      <td>-0.025592</td>\n",
              "      <td>0.931474</td>\n",
              "    </tr>\n",
              "    <tr>\n",
              "      <th>2022</th>\n",
              "      <td>0.190892</td>\n",
              "      <td>0.917312</td>\n",
              "      <td>0.938966</td>\n",
              "      <td>1.000000</td>\n",
              "      <td>0.986553</td>\n",
              "      <td>-0.026031</td>\n",
              "      <td>0.999751</td>\n",
              "    </tr>\n",
              "    <tr>\n",
              "      <th>2023</th>\n",
              "      <td>0.177337</td>\n",
              "      <td>0.863589</td>\n",
              "      <td>0.885000</td>\n",
              "      <td>0.986553</td>\n",
              "      <td>1.000000</td>\n",
              "      <td>-0.024008</td>\n",
              "      <td>0.988626</td>\n",
              "    </tr>\n",
              "    <tr>\n",
              "      <th>Country People/Sq Km</th>\n",
              "      <td>0.135309</td>\n",
              "      <td>-0.022516</td>\n",
              "      <td>-0.025592</td>\n",
              "      <td>-0.026031</td>\n",
              "      <td>-0.024008</td>\n",
              "      <td>1.000000</td>\n",
              "      <td>-0.026101</td>\n",
              "    </tr>\n",
              "    <tr>\n",
              "      <th>Slope between 2020 and 2022</th>\n",
              "      <td>0.191399</td>\n",
              "      <td>0.908203</td>\n",
              "      <td>0.931474</td>\n",
              "      <td>0.999751</td>\n",
              "      <td>0.988626</td>\n",
              "      <td>-0.026101</td>\n",
              "      <td>1.000000</td>\n",
              "    </tr>\n",
              "  </tbody>\n",
              "</table>\n",
              "</div>\n",
              "    <div class=\"colab-df-buttons\">\n",
              "\n",
              "  <div class=\"colab-df-container\">\n",
              "    <button class=\"colab-df-convert\" onclick=\"convertToInteractive('df-f33755de-045e-4c5a-8349-d92fea0d9f02')\"\n",
              "            title=\"Convert this dataframe to an interactive table.\"\n",
              "            style=\"display:none;\">\n",
              "\n",
              "  <svg xmlns=\"http://www.w3.org/2000/svg\" height=\"24px\" viewBox=\"0 -960 960 960\">\n",
              "    <path d=\"M120-120v-720h720v720H120Zm60-500h600v-160H180v160Zm220 220h160v-160H400v160Zm0 220h160v-160H400v160ZM180-400h160v-160H180v160Zm440 0h160v-160H620v160ZM180-180h160v-160H180v160Zm440 0h160v-160H620v160Z\"/>\n",
              "  </svg>\n",
              "    </button>\n",
              "\n",
              "  <style>\n",
              "    .colab-df-container {\n",
              "      display:flex;\n",
              "      gap: 12px;\n",
              "    }\n",
              "\n",
              "    .colab-df-convert {\n",
              "      background-color: #E8F0FE;\n",
              "      border: none;\n",
              "      border-radius: 50%;\n",
              "      cursor: pointer;\n",
              "      display: none;\n",
              "      fill: #1967D2;\n",
              "      height: 32px;\n",
              "      padding: 0 0 0 0;\n",
              "      width: 32px;\n",
              "    }\n",
              "\n",
              "    .colab-df-convert:hover {\n",
              "      background-color: #E2EBFA;\n",
              "      box-shadow: 0px 1px 2px rgba(60, 64, 67, 0.3), 0px 1px 3px 1px rgba(60, 64, 67, 0.15);\n",
              "      fill: #174EA6;\n",
              "    }\n",
              "\n",
              "    .colab-df-buttons div {\n",
              "      margin-bottom: 4px;\n",
              "    }\n",
              "\n",
              "    [theme=dark] .colab-df-convert {\n",
              "      background-color: #3B4455;\n",
              "      fill: #D2E3FC;\n",
              "    }\n",
              "\n",
              "    [theme=dark] .colab-df-convert:hover {\n",
              "      background-color: #434B5C;\n",
              "      box-shadow: 0px 1px 3px 1px rgba(0, 0, 0, 0.15);\n",
              "      filter: drop-shadow(0px 1px 2px rgba(0, 0, 0, 0.3));\n",
              "      fill: #FFFFFF;\n",
              "    }\n",
              "  </style>\n",
              "\n",
              "    <script>\n",
              "      const buttonEl =\n",
              "        document.querySelector('#df-f33755de-045e-4c5a-8349-d92fea0d9f02 button.colab-df-convert');\n",
              "      buttonEl.style.display =\n",
              "        google.colab.kernel.accessAllowed ? 'block' : 'none';\n",
              "\n",
              "      async function convertToInteractive(key) {\n",
              "        const element = document.querySelector('#df-f33755de-045e-4c5a-8349-d92fea0d9f02');\n",
              "        const dataTable =\n",
              "          await google.colab.kernel.invokeFunction('convertToInteractive',\n",
              "                                                    [key], {});\n",
              "        if (!dataTable) return;\n",
              "\n",
              "        const docLinkHtml = 'Like what you see? Visit the ' +\n",
              "          '<a target=\"_blank\" href=https://colab.research.google.com/notebooks/data_table.ipynb>data table notebook</a>'\n",
              "          + ' to learn more about interactive tables.';\n",
              "        element.innerHTML = '';\n",
              "        dataTable['output_type'] = 'display_data';\n",
              "        await google.colab.output.renderOutput(dataTable, element);\n",
              "        const docLink = document.createElement('div');\n",
              "        docLink.innerHTML = docLinkHtml;\n",
              "        element.appendChild(docLink);\n",
              "      }\n",
              "    </script>\n",
              "  </div>\n",
              "\n",
              "\n",
              "    <div id=\"df-e9ab1324-f5cd-4eb5-8b58-7b152c11c1fa\">\n",
              "      <button class=\"colab-df-quickchart\" onclick=\"quickchart('df-e9ab1324-f5cd-4eb5-8b58-7b152c11c1fa')\"\n",
              "                title=\"Suggest charts\"\n",
              "                style=\"display:none;\">\n",
              "\n",
              "<svg xmlns=\"http://www.w3.org/2000/svg\" height=\"24px\"viewBox=\"0 0 24 24\"\n",
              "     width=\"24px\">\n",
              "    <g>\n",
              "        <path d=\"M19 3H5c-1.1 0-2 .9-2 2v14c0 1.1.9 2 2 2h14c1.1 0 2-.9 2-2V5c0-1.1-.9-2-2-2zM9 17H7v-7h2v7zm4 0h-2V7h2v10zm4 0h-2v-4h2v4z\"/>\n",
              "    </g>\n",
              "</svg>\n",
              "      </button>\n",
              "\n",
              "<style>\n",
              "  .colab-df-quickchart {\n",
              "      --bg-color: #E8F0FE;\n",
              "      --fill-color: #1967D2;\n",
              "      --hover-bg-color: #E2EBFA;\n",
              "      --hover-fill-color: #174EA6;\n",
              "      --disabled-fill-color: #AAA;\n",
              "      --disabled-bg-color: #DDD;\n",
              "  }\n",
              "\n",
              "  [theme=dark] .colab-df-quickchart {\n",
              "      --bg-color: #3B4455;\n",
              "      --fill-color: #D2E3FC;\n",
              "      --hover-bg-color: #434B5C;\n",
              "      --hover-fill-color: #FFFFFF;\n",
              "      --disabled-bg-color: #3B4455;\n",
              "      --disabled-fill-color: #666;\n",
              "  }\n",
              "\n",
              "  .colab-df-quickchart {\n",
              "    background-color: var(--bg-color);\n",
              "    border: none;\n",
              "    border-radius: 50%;\n",
              "    cursor: pointer;\n",
              "    display: none;\n",
              "    fill: var(--fill-color);\n",
              "    height: 32px;\n",
              "    padding: 0;\n",
              "    width: 32px;\n",
              "  }\n",
              "\n",
              "  .colab-df-quickchart:hover {\n",
              "    background-color: var(--hover-bg-color);\n",
              "    box-shadow: 0 1px 2px rgba(60, 64, 67, 0.3), 0 1px 3px 1px rgba(60, 64, 67, 0.15);\n",
              "    fill: var(--button-hover-fill-color);\n",
              "  }\n",
              "\n",
              "  .colab-df-quickchart-complete:disabled,\n",
              "  .colab-df-quickchart-complete:disabled:hover {\n",
              "    background-color: var(--disabled-bg-color);\n",
              "    fill: var(--disabled-fill-color);\n",
              "    box-shadow: none;\n",
              "  }\n",
              "\n",
              "  .colab-df-spinner {\n",
              "    border: 2px solid var(--fill-color);\n",
              "    border-color: transparent;\n",
              "    border-bottom-color: var(--fill-color);\n",
              "    animation:\n",
              "      spin 1s steps(1) infinite;\n",
              "  }\n",
              "\n",
              "  @keyframes spin {\n",
              "    0% {\n",
              "      border-color: transparent;\n",
              "      border-bottom-color: var(--fill-color);\n",
              "      border-left-color: var(--fill-color);\n",
              "    }\n",
              "    20% {\n",
              "      border-color: transparent;\n",
              "      border-left-color: var(--fill-color);\n",
              "      border-top-color: var(--fill-color);\n",
              "    }\n",
              "    30% {\n",
              "      border-color: transparent;\n",
              "      border-left-color: var(--fill-color);\n",
              "      border-top-color: var(--fill-color);\n",
              "      border-right-color: var(--fill-color);\n",
              "    }\n",
              "    40% {\n",
              "      border-color: transparent;\n",
              "      border-right-color: var(--fill-color);\n",
              "      border-top-color: var(--fill-color);\n",
              "    }\n",
              "    60% {\n",
              "      border-color: transparent;\n",
              "      border-right-color: var(--fill-color);\n",
              "    }\n",
              "    80% {\n",
              "      border-color: transparent;\n",
              "      border-right-color: var(--fill-color);\n",
              "      border-bottom-color: var(--fill-color);\n",
              "    }\n",
              "    90% {\n",
              "      border-color: transparent;\n",
              "      border-bottom-color: var(--fill-color);\n",
              "    }\n",
              "  }\n",
              "</style>\n",
              "\n",
              "      <script>\n",
              "        async function quickchart(key) {\n",
              "          const quickchartButtonEl =\n",
              "            document.querySelector('#' + key + ' button');\n",
              "          quickchartButtonEl.disabled = true;  // To prevent multiple clicks.\n",
              "          quickchartButtonEl.classList.add('colab-df-spinner');\n",
              "          try {\n",
              "            const charts = await google.colab.kernel.invokeFunction(\n",
              "                'suggestCharts', [key], {});\n",
              "          } catch (error) {\n",
              "            console.error('Error during call to suggestCharts:', error);\n",
              "          }\n",
              "          quickchartButtonEl.classList.remove('colab-df-spinner');\n",
              "          quickchartButtonEl.classList.add('colab-df-quickchart-complete');\n",
              "        }\n",
              "        (() => {\n",
              "          let quickchartButtonEl =\n",
              "            document.querySelector('#df-e9ab1324-f5cd-4eb5-8b58-7b152c11c1fa button');\n",
              "          quickchartButtonEl.style.display =\n",
              "            google.colab.kernel.accessAllowed ? 'block' : 'none';\n",
              "        })();\n",
              "      </script>\n",
              "    </div>\n",
              "\n",
              "    </div>\n",
              "  </div>\n"
            ],
            "application/vnd.google.colaboratory.intrinsic+json": {
              "type": "dataframe",
              "summary": "{\n  \"name\": \"LRdata\",\n  \"rows\": 7,\n  \"fields\": [\n    {\n      \"column\": \"index\",\n      \"properties\": {\n        \"dtype\": \"number\",\n        \"std\": 0.3136750919520178,\n        \"min\": 0.13530877789745577,\n        \"max\": 1.0,\n        \"num_unique_values\": 7,\n        \"samples\": [\n          1.0,\n          0.16522183451934785,\n          0.13530877789745577\n        ],\n        \"semantic_type\": \"\",\n        \"description\": \"\"\n      }\n    },\n    {\n      \"column\": 2020,\n      \"properties\": {\n        \"dtype\": \"number\",\n        \"std\": 0.4280009384205512,\n        \"min\": -0.022516212156523996,\n        \"max\": 1.0,\n        \"num_unique_values\": 7,\n        \"samples\": [\n          0.16522183451934785,\n          1.0,\n          -0.022516212156523996\n        ],\n        \"semantic_type\": \"\",\n        \"description\": \"\"\n      }\n    },\n    {\n      \"column\": 2021,\n      \"properties\": {\n        \"dtype\": \"number\",\n        \"std\": 0.43347479731813177,\n        \"min\": -0.025592329155118762,\n        \"max\": 1.0,\n        \"num_unique_values\": 7,\n        \"samples\": [\n          0.16951821255448604,\n          0.9908796847933568,\n          -0.025592329155118762\n        ],\n        \"semantic_type\": \"\",\n        \"description\": \"\"\n      }\n    },\n    {\n      \"column\": 2022,\n      \"properties\": {\n        \"dtype\": \"number\",\n        \"std\": 0.43797944167158664,\n        \"min\": -0.026031473424772553,\n        \"max\": 1.0,\n        \"num_unique_values\": 7,\n        \"samples\": [\n          0.1908922014232761,\n          0.9173123188171315,\n          -0.026031473424772553\n        ],\n        \"semantic_type\": \"\",\n        \"description\": \"\"\n      }\n    },\n    {\n      \"column\": 2023,\n      \"properties\": {\n        \"dtype\": \"number\",\n        \"std\": 0.43083112968892817,\n        \"min\": -0.02400779675714924,\n        \"max\": 1.0,\n        \"num_unique_values\": 7,\n        \"samples\": [\n          0.1773369517980934,\n          0.8635889189634747,\n          -0.02400779675714924\n        ],\n        \"semantic_type\": \"\",\n        \"description\": \"\"\n      }\n    },\n    {\n      \"column\": \"Country People/Sq Km\",\n      \"properties\": {\n        \"dtype\": \"number\",\n        \"std\": 0.38196230069175996,\n        \"min\": -0.02610134079791668,\n        \"max\": 1.0,\n        \"num_unique_values\": 7,\n        \"samples\": [\n          0.13530877789745577,\n          -0.022516212156523996,\n          1.0\n        ],\n        \"semantic_type\": \"\",\n        \"description\": \"\"\n      }\n    },\n    {\n      \"column\": \"Slope between 2020 and 2022\",\n      \"properties\": {\n        \"dtype\": \"number\",\n        \"std\": 0.43679480286829736,\n        \"min\": -0.02610134079791668,\n        \"max\": 1.0,\n        \"num_unique_values\": 7,\n        \"samples\": [\n          0.1913985255415218,\n          0.9082026393519892,\n          -0.02610134079791668\n        ],\n        \"semantic_type\": \"\",\n        \"description\": \"\"\n      }\n    }\n  ]\n}"
            }
          },
          "metadata": {},
          "execution_count": 65
        }
      ]
    },
    {
      "cell_type": "markdown",
      "source": [
        "##### T-Test"
      ],
      "metadata": {
        "id": "hjEsnsMFt-qP"
      }
    },
    {
      "cell_type": "code",
      "source": [
        "df_C2022 = LRdata[2022]\n",
        "Cpop_density = LRdata[\"Country People/Sq Km\"]\n",
        "Cinfection_rate = LRdata[\"Slope between 2020 and 2022\"]\n",
        "t_stat, p_val = ttest_rel(Cpop_density, Cinfection_rate)\n",
        "\n",
        "\n",
        "print(\"Paired T-Test Between Population Density and Infection Rate (2022):\")\n",
        "print(f\"T-Statistic: {t_stat}\")\n",
        "print(f\"P-Value: {p_val}\")\n",
        "\n",
        "if p_val < 0.05:\n",
        "    print(\"There is a significant difference.\")\n",
        "else:\n",
        "    print(\"No significant difference found.\")"
      ],
      "metadata": {
        "colab": {
          "base_uri": "https://localhost:8080/"
        },
        "id": "dYeioJt3t_UF",
        "outputId": "c21cab4d-0450-4e3d-bf82-489b6df19937"
      },
      "execution_count": 66,
      "outputs": [
        {
          "output_type": "stream",
          "name": "stdout",
          "text": [
            "Paired T-Test Between Population Density and Infection Rate (2022):\n",
            "T-Statistic: -4.670433086707582\n",
            "P-Value: 5.621445528010375e-06\n",
            "There is a significant difference.\n"
          ]
        }
      ]
    },
    {
      "cell_type": "markdown",
      "source": [
        "\n",
        "\n",
        "---\n",
        "\n"
      ],
      "metadata": {
        "id": "Y3USeJKsuOre"
      }
    },
    {
      "cell_type": "markdown",
      "source": [
        "# Linear Regression - Countries"
      ],
      "metadata": {
        "id": "6UUtTG4iKXcq"
      }
    },
    {
      "cell_type": "code",
      "source": [
        "from sklearn.linear_model import LinearRegression"
      ],
      "metadata": {
        "id": "D513-MPILnsX"
      },
      "execution_count": 83,
      "outputs": []
    },
    {
      "cell_type": "code",
      "source": [
        "label = LRdata['Slope between 2020 and 2022']\n",
        "features = LRdata[['Country People/Sq Km']]"
      ],
      "metadata": {
        "id": "0u9iSYpeKah1"
      },
      "execution_count": 107,
      "outputs": []
    },
    {
      "cell_type": "code",
      "source": [
        "X_train, X_test, y_train, y_test = model_selection.train_test_split(features, label, test_size=0.2, random_state=42)"
      ],
      "metadata": {
        "id": "wCovDdQmLGEm"
      },
      "execution_count": 108,
      "outputs": []
    },
    {
      "cell_type": "code",
      "source": [
        "lr_model = LinearRegression()"
      ],
      "metadata": {
        "id": "XDILFUxFN16x"
      },
      "execution_count": 109,
      "outputs": []
    },
    {
      "cell_type": "code",
      "source": [
        "lr_model.fit(X_train, y_train)"
      ],
      "metadata": {
        "colab": {
          "base_uri": "https://localhost:8080/",
          "height": 80
        },
        "id": "Ybw-bojwN-vO",
        "outputId": "182efbd4-4383-42ff-92dd-921704874cea"
      },
      "execution_count": 110,
      "outputs": [
        {
          "output_type": "execute_result",
          "data": {
            "text/plain": [
              "LinearRegression()"
            ],
            "text/html": [
              "<style>#sk-container-id-5 {\n",
              "  /* Definition of color scheme common for light and dark mode */\n",
              "  --sklearn-color-text: #000;\n",
              "  --sklearn-color-text-muted: #666;\n",
              "  --sklearn-color-line: gray;\n",
              "  /* Definition of color scheme for unfitted estimators */\n",
              "  --sklearn-color-unfitted-level-0: #fff5e6;\n",
              "  --sklearn-color-unfitted-level-1: #f6e4d2;\n",
              "  --sklearn-color-unfitted-level-2: #ffe0b3;\n",
              "  --sklearn-color-unfitted-level-3: chocolate;\n",
              "  /* Definition of color scheme for fitted estimators */\n",
              "  --sklearn-color-fitted-level-0: #f0f8ff;\n",
              "  --sklearn-color-fitted-level-1: #d4ebff;\n",
              "  --sklearn-color-fitted-level-2: #b3dbfd;\n",
              "  --sklearn-color-fitted-level-3: cornflowerblue;\n",
              "\n",
              "  /* Specific color for light theme */\n",
              "  --sklearn-color-text-on-default-background: var(--sg-text-color, var(--theme-code-foreground, var(--jp-content-font-color1, black)));\n",
              "  --sklearn-color-background: var(--sg-background-color, var(--theme-background, var(--jp-layout-color0, white)));\n",
              "  --sklearn-color-border-box: var(--sg-text-color, var(--theme-code-foreground, var(--jp-content-font-color1, black)));\n",
              "  --sklearn-color-icon: #696969;\n",
              "\n",
              "  @media (prefers-color-scheme: dark) {\n",
              "    /* Redefinition of color scheme for dark theme */\n",
              "    --sklearn-color-text-on-default-background: var(--sg-text-color, var(--theme-code-foreground, var(--jp-content-font-color1, white)));\n",
              "    --sklearn-color-background: var(--sg-background-color, var(--theme-background, var(--jp-layout-color0, #111)));\n",
              "    --sklearn-color-border-box: var(--sg-text-color, var(--theme-code-foreground, var(--jp-content-font-color1, white)));\n",
              "    --sklearn-color-icon: #878787;\n",
              "  }\n",
              "}\n",
              "\n",
              "#sk-container-id-5 {\n",
              "  color: var(--sklearn-color-text);\n",
              "}\n",
              "\n",
              "#sk-container-id-5 pre {\n",
              "  padding: 0;\n",
              "}\n",
              "\n",
              "#sk-container-id-5 input.sk-hidden--visually {\n",
              "  border: 0;\n",
              "  clip: rect(1px 1px 1px 1px);\n",
              "  clip: rect(1px, 1px, 1px, 1px);\n",
              "  height: 1px;\n",
              "  margin: -1px;\n",
              "  overflow: hidden;\n",
              "  padding: 0;\n",
              "  position: absolute;\n",
              "  width: 1px;\n",
              "}\n",
              "\n",
              "#sk-container-id-5 div.sk-dashed-wrapped {\n",
              "  border: 1px dashed var(--sklearn-color-line);\n",
              "  margin: 0 0.4em 0.5em 0.4em;\n",
              "  box-sizing: border-box;\n",
              "  padding-bottom: 0.4em;\n",
              "  background-color: var(--sklearn-color-background);\n",
              "}\n",
              "\n",
              "#sk-container-id-5 div.sk-container {\n",
              "  /* jupyter's `normalize.less` sets `[hidden] { display: none; }`\n",
              "     but bootstrap.min.css set `[hidden] { display: none !important; }`\n",
              "     so we also need the `!important` here to be able to override the\n",
              "     default hidden behavior on the sphinx rendered scikit-learn.org.\n",
              "     See: https://github.com/scikit-learn/scikit-learn/issues/21755 */\n",
              "  display: inline-block !important;\n",
              "  position: relative;\n",
              "}\n",
              "\n",
              "#sk-container-id-5 div.sk-text-repr-fallback {\n",
              "  display: none;\n",
              "}\n",
              "\n",
              "div.sk-parallel-item,\n",
              "div.sk-serial,\n",
              "div.sk-item {\n",
              "  /* draw centered vertical line to link estimators */\n",
              "  background-image: linear-gradient(var(--sklearn-color-text-on-default-background), var(--sklearn-color-text-on-default-background));\n",
              "  background-size: 2px 100%;\n",
              "  background-repeat: no-repeat;\n",
              "  background-position: center center;\n",
              "}\n",
              "\n",
              "/* Parallel-specific style estimator block */\n",
              "\n",
              "#sk-container-id-5 div.sk-parallel-item::after {\n",
              "  content: \"\";\n",
              "  width: 100%;\n",
              "  border-bottom: 2px solid var(--sklearn-color-text-on-default-background);\n",
              "  flex-grow: 1;\n",
              "}\n",
              "\n",
              "#sk-container-id-5 div.sk-parallel {\n",
              "  display: flex;\n",
              "  align-items: stretch;\n",
              "  justify-content: center;\n",
              "  background-color: var(--sklearn-color-background);\n",
              "  position: relative;\n",
              "}\n",
              "\n",
              "#sk-container-id-5 div.sk-parallel-item {\n",
              "  display: flex;\n",
              "  flex-direction: column;\n",
              "}\n",
              "\n",
              "#sk-container-id-5 div.sk-parallel-item:first-child::after {\n",
              "  align-self: flex-end;\n",
              "  width: 50%;\n",
              "}\n",
              "\n",
              "#sk-container-id-5 div.sk-parallel-item:last-child::after {\n",
              "  align-self: flex-start;\n",
              "  width: 50%;\n",
              "}\n",
              "\n",
              "#sk-container-id-5 div.sk-parallel-item:only-child::after {\n",
              "  width: 0;\n",
              "}\n",
              "\n",
              "/* Serial-specific style estimator block */\n",
              "\n",
              "#sk-container-id-5 div.sk-serial {\n",
              "  display: flex;\n",
              "  flex-direction: column;\n",
              "  align-items: center;\n",
              "  background-color: var(--sklearn-color-background);\n",
              "  padding-right: 1em;\n",
              "  padding-left: 1em;\n",
              "}\n",
              "\n",
              "\n",
              "/* Toggleable style: style used for estimator/Pipeline/ColumnTransformer box that is\n",
              "clickable and can be expanded/collapsed.\n",
              "- Pipeline and ColumnTransformer use this feature and define the default style\n",
              "- Estimators will overwrite some part of the style using the `sk-estimator` class\n",
              "*/\n",
              "\n",
              "/* Pipeline and ColumnTransformer style (default) */\n",
              "\n",
              "#sk-container-id-5 div.sk-toggleable {\n",
              "  /* Default theme specific background. It is overwritten whether we have a\n",
              "  specific estimator or a Pipeline/ColumnTransformer */\n",
              "  background-color: var(--sklearn-color-background);\n",
              "}\n",
              "\n",
              "/* Toggleable label */\n",
              "#sk-container-id-5 label.sk-toggleable__label {\n",
              "  cursor: pointer;\n",
              "  display: flex;\n",
              "  width: 100%;\n",
              "  margin-bottom: 0;\n",
              "  padding: 0.5em;\n",
              "  box-sizing: border-box;\n",
              "  text-align: center;\n",
              "  align-items: start;\n",
              "  justify-content: space-between;\n",
              "  gap: 0.5em;\n",
              "}\n",
              "\n",
              "#sk-container-id-5 label.sk-toggleable__label .caption {\n",
              "  font-size: 0.6rem;\n",
              "  font-weight: lighter;\n",
              "  color: var(--sklearn-color-text-muted);\n",
              "}\n",
              "\n",
              "#sk-container-id-5 label.sk-toggleable__label-arrow:before {\n",
              "  /* Arrow on the left of the label */\n",
              "  content: \"▸\";\n",
              "  float: left;\n",
              "  margin-right: 0.25em;\n",
              "  color: var(--sklearn-color-icon);\n",
              "}\n",
              "\n",
              "#sk-container-id-5 label.sk-toggleable__label-arrow:hover:before {\n",
              "  color: var(--sklearn-color-text);\n",
              "}\n",
              "\n",
              "/* Toggleable content - dropdown */\n",
              "\n",
              "#sk-container-id-5 div.sk-toggleable__content {\n",
              "  max-height: 0;\n",
              "  max-width: 0;\n",
              "  overflow: hidden;\n",
              "  text-align: left;\n",
              "  /* unfitted */\n",
              "  background-color: var(--sklearn-color-unfitted-level-0);\n",
              "}\n",
              "\n",
              "#sk-container-id-5 div.sk-toggleable__content.fitted {\n",
              "  /* fitted */\n",
              "  background-color: var(--sklearn-color-fitted-level-0);\n",
              "}\n",
              "\n",
              "#sk-container-id-5 div.sk-toggleable__content pre {\n",
              "  margin: 0.2em;\n",
              "  border-radius: 0.25em;\n",
              "  color: var(--sklearn-color-text);\n",
              "  /* unfitted */\n",
              "  background-color: var(--sklearn-color-unfitted-level-0);\n",
              "}\n",
              "\n",
              "#sk-container-id-5 div.sk-toggleable__content.fitted pre {\n",
              "  /* unfitted */\n",
              "  background-color: var(--sklearn-color-fitted-level-0);\n",
              "}\n",
              "\n",
              "#sk-container-id-5 input.sk-toggleable__control:checked~div.sk-toggleable__content {\n",
              "  /* Expand drop-down */\n",
              "  max-height: 200px;\n",
              "  max-width: 100%;\n",
              "  overflow: auto;\n",
              "}\n",
              "\n",
              "#sk-container-id-5 input.sk-toggleable__control:checked~label.sk-toggleable__label-arrow:before {\n",
              "  content: \"▾\";\n",
              "}\n",
              "\n",
              "/* Pipeline/ColumnTransformer-specific style */\n",
              "\n",
              "#sk-container-id-5 div.sk-label input.sk-toggleable__control:checked~label.sk-toggleable__label {\n",
              "  color: var(--sklearn-color-text);\n",
              "  background-color: var(--sklearn-color-unfitted-level-2);\n",
              "}\n",
              "\n",
              "#sk-container-id-5 div.sk-label.fitted input.sk-toggleable__control:checked~label.sk-toggleable__label {\n",
              "  background-color: var(--sklearn-color-fitted-level-2);\n",
              "}\n",
              "\n",
              "/* Estimator-specific style */\n",
              "\n",
              "/* Colorize estimator box */\n",
              "#sk-container-id-5 div.sk-estimator input.sk-toggleable__control:checked~label.sk-toggleable__label {\n",
              "  /* unfitted */\n",
              "  background-color: var(--sklearn-color-unfitted-level-2);\n",
              "}\n",
              "\n",
              "#sk-container-id-5 div.sk-estimator.fitted input.sk-toggleable__control:checked~label.sk-toggleable__label {\n",
              "  /* fitted */\n",
              "  background-color: var(--sklearn-color-fitted-level-2);\n",
              "}\n",
              "\n",
              "#sk-container-id-5 div.sk-label label.sk-toggleable__label,\n",
              "#sk-container-id-5 div.sk-label label {\n",
              "  /* The background is the default theme color */\n",
              "  color: var(--sklearn-color-text-on-default-background);\n",
              "}\n",
              "\n",
              "/* On hover, darken the color of the background */\n",
              "#sk-container-id-5 div.sk-label:hover label.sk-toggleable__label {\n",
              "  color: var(--sklearn-color-text);\n",
              "  background-color: var(--sklearn-color-unfitted-level-2);\n",
              "}\n",
              "\n",
              "/* Label box, darken color on hover, fitted */\n",
              "#sk-container-id-5 div.sk-label.fitted:hover label.sk-toggleable__label.fitted {\n",
              "  color: var(--sklearn-color-text);\n",
              "  background-color: var(--sklearn-color-fitted-level-2);\n",
              "}\n",
              "\n",
              "/* Estimator label */\n",
              "\n",
              "#sk-container-id-5 div.sk-label label {\n",
              "  font-family: monospace;\n",
              "  font-weight: bold;\n",
              "  display: inline-block;\n",
              "  line-height: 1.2em;\n",
              "}\n",
              "\n",
              "#sk-container-id-5 div.sk-label-container {\n",
              "  text-align: center;\n",
              "}\n",
              "\n",
              "/* Estimator-specific */\n",
              "#sk-container-id-5 div.sk-estimator {\n",
              "  font-family: monospace;\n",
              "  border: 1px dotted var(--sklearn-color-border-box);\n",
              "  border-radius: 0.25em;\n",
              "  box-sizing: border-box;\n",
              "  margin-bottom: 0.5em;\n",
              "  /* unfitted */\n",
              "  background-color: var(--sklearn-color-unfitted-level-0);\n",
              "}\n",
              "\n",
              "#sk-container-id-5 div.sk-estimator.fitted {\n",
              "  /* fitted */\n",
              "  background-color: var(--sklearn-color-fitted-level-0);\n",
              "}\n",
              "\n",
              "/* on hover */\n",
              "#sk-container-id-5 div.sk-estimator:hover {\n",
              "  /* unfitted */\n",
              "  background-color: var(--sklearn-color-unfitted-level-2);\n",
              "}\n",
              "\n",
              "#sk-container-id-5 div.sk-estimator.fitted:hover {\n",
              "  /* fitted */\n",
              "  background-color: var(--sklearn-color-fitted-level-2);\n",
              "}\n",
              "\n",
              "/* Specification for estimator info (e.g. \"i\" and \"?\") */\n",
              "\n",
              "/* Common style for \"i\" and \"?\" */\n",
              "\n",
              ".sk-estimator-doc-link,\n",
              "a:link.sk-estimator-doc-link,\n",
              "a:visited.sk-estimator-doc-link {\n",
              "  float: right;\n",
              "  font-size: smaller;\n",
              "  line-height: 1em;\n",
              "  font-family: monospace;\n",
              "  background-color: var(--sklearn-color-background);\n",
              "  border-radius: 1em;\n",
              "  height: 1em;\n",
              "  width: 1em;\n",
              "  text-decoration: none !important;\n",
              "  margin-left: 0.5em;\n",
              "  text-align: center;\n",
              "  /* unfitted */\n",
              "  border: var(--sklearn-color-unfitted-level-1) 1pt solid;\n",
              "  color: var(--sklearn-color-unfitted-level-1);\n",
              "}\n",
              "\n",
              ".sk-estimator-doc-link.fitted,\n",
              "a:link.sk-estimator-doc-link.fitted,\n",
              "a:visited.sk-estimator-doc-link.fitted {\n",
              "  /* fitted */\n",
              "  border: var(--sklearn-color-fitted-level-1) 1pt solid;\n",
              "  color: var(--sklearn-color-fitted-level-1);\n",
              "}\n",
              "\n",
              "/* On hover */\n",
              "div.sk-estimator:hover .sk-estimator-doc-link:hover,\n",
              ".sk-estimator-doc-link:hover,\n",
              "div.sk-label-container:hover .sk-estimator-doc-link:hover,\n",
              ".sk-estimator-doc-link:hover {\n",
              "  /* unfitted */\n",
              "  background-color: var(--sklearn-color-unfitted-level-3);\n",
              "  color: var(--sklearn-color-background);\n",
              "  text-decoration: none;\n",
              "}\n",
              "\n",
              "div.sk-estimator.fitted:hover .sk-estimator-doc-link.fitted:hover,\n",
              ".sk-estimator-doc-link.fitted:hover,\n",
              "div.sk-label-container:hover .sk-estimator-doc-link.fitted:hover,\n",
              ".sk-estimator-doc-link.fitted:hover {\n",
              "  /* fitted */\n",
              "  background-color: var(--sklearn-color-fitted-level-3);\n",
              "  color: var(--sklearn-color-background);\n",
              "  text-decoration: none;\n",
              "}\n",
              "\n",
              "/* Span, style for the box shown on hovering the info icon */\n",
              ".sk-estimator-doc-link span {\n",
              "  display: none;\n",
              "  z-index: 9999;\n",
              "  position: relative;\n",
              "  font-weight: normal;\n",
              "  right: .2ex;\n",
              "  padding: .5ex;\n",
              "  margin: .5ex;\n",
              "  width: min-content;\n",
              "  min-width: 20ex;\n",
              "  max-width: 50ex;\n",
              "  color: var(--sklearn-color-text);\n",
              "  box-shadow: 2pt 2pt 4pt #999;\n",
              "  /* unfitted */\n",
              "  background: var(--sklearn-color-unfitted-level-0);\n",
              "  border: .5pt solid var(--sklearn-color-unfitted-level-3);\n",
              "}\n",
              "\n",
              ".sk-estimator-doc-link.fitted span {\n",
              "  /* fitted */\n",
              "  background: var(--sklearn-color-fitted-level-0);\n",
              "  border: var(--sklearn-color-fitted-level-3);\n",
              "}\n",
              "\n",
              ".sk-estimator-doc-link:hover span {\n",
              "  display: block;\n",
              "}\n",
              "\n",
              "/* \"?\"-specific style due to the `<a>` HTML tag */\n",
              "\n",
              "#sk-container-id-5 a.estimator_doc_link {\n",
              "  float: right;\n",
              "  font-size: 1rem;\n",
              "  line-height: 1em;\n",
              "  font-family: monospace;\n",
              "  background-color: var(--sklearn-color-background);\n",
              "  border-radius: 1rem;\n",
              "  height: 1rem;\n",
              "  width: 1rem;\n",
              "  text-decoration: none;\n",
              "  /* unfitted */\n",
              "  color: var(--sklearn-color-unfitted-level-1);\n",
              "  border: var(--sklearn-color-unfitted-level-1) 1pt solid;\n",
              "}\n",
              "\n",
              "#sk-container-id-5 a.estimator_doc_link.fitted {\n",
              "  /* fitted */\n",
              "  border: var(--sklearn-color-fitted-level-1) 1pt solid;\n",
              "  color: var(--sklearn-color-fitted-level-1);\n",
              "}\n",
              "\n",
              "/* On hover */\n",
              "#sk-container-id-5 a.estimator_doc_link:hover {\n",
              "  /* unfitted */\n",
              "  background-color: var(--sklearn-color-unfitted-level-3);\n",
              "  color: var(--sklearn-color-background);\n",
              "  text-decoration: none;\n",
              "}\n",
              "\n",
              "#sk-container-id-5 a.estimator_doc_link.fitted:hover {\n",
              "  /* fitted */\n",
              "  background-color: var(--sklearn-color-fitted-level-3);\n",
              "}\n",
              "</style><div id=\"sk-container-id-5\" class=\"sk-top-container\"><div class=\"sk-text-repr-fallback\"><pre>LinearRegression()</pre><b>In a Jupyter environment, please rerun this cell to show the HTML representation or trust the notebook. <br />On GitHub, the HTML representation is unable to render, please try loading this page with nbviewer.org.</b></div><div class=\"sk-container\" hidden><div class=\"sk-item\"><div class=\"sk-estimator fitted sk-toggleable\"><input class=\"sk-toggleable__control sk-hidden--visually\" id=\"sk-estimator-id-5\" type=\"checkbox\" checked><label for=\"sk-estimator-id-5\" class=\"sk-toggleable__label fitted sk-toggleable__label-arrow\"><div><div>LinearRegression</div></div><div><a class=\"sk-estimator-doc-link fitted\" rel=\"noreferrer\" target=\"_blank\" href=\"https://scikit-learn.org/1.6/modules/generated/sklearn.linear_model.LinearRegression.html\">?<span>Documentation for LinearRegression</span></a><span class=\"sk-estimator-doc-link fitted\">i<span>Fitted</span></span></div></label><div class=\"sk-toggleable__content fitted\"><pre>LinearRegression()</pre></div> </div></div></div></div>"
            ]
          },
          "metadata": {},
          "execution_count": 110
        }
      ]
    },
    {
      "cell_type": "code",
      "source": [
        "pred = lr_model.predict(X_test)\n"
      ],
      "metadata": {
        "id": "M7CHKCMvOHuV"
      },
      "execution_count": 111,
      "outputs": []
    },
    {
      "cell_type": "code",
      "source": [
        "LRdata['Slope between 2020 and 2022'].describe()"
      ],
      "metadata": {
        "colab": {
          "base_uri": "https://localhost:8080/",
          "height": 335
        },
        "id": "X4kxiwdeGmlV",
        "outputId": "b16738ac-9817-4fe1-eb85-1046ac337b57"
      },
      "execution_count": 114,
      "outputs": [
        {
          "output_type": "execute_result",
          "data": {
            "text/plain": [
              "count    1.940000e+02\n",
              "mean     4.862177e+08\n",
              "std      1.450020e+09\n",
              "min      1.160000e+02\n",
              "25%      7.539378e+06\n",
              "50%      5.493690e+07\n",
              "75%      2.681949e+08\n",
              "max      1.505885e+10\n",
              "Name: Slope between 2020 and 2022, dtype: float64"
            ],
            "text/html": [
              "<div>\n",
              "<style scoped>\n",
              "    .dataframe tbody tr th:only-of-type {\n",
              "        vertical-align: middle;\n",
              "    }\n",
              "\n",
              "    .dataframe tbody tr th {\n",
              "        vertical-align: top;\n",
              "    }\n",
              "\n",
              "    .dataframe thead th {\n",
              "        text-align: right;\n",
              "    }\n",
              "</style>\n",
              "<table border=\"1\" class=\"dataframe\">\n",
              "  <thead>\n",
              "    <tr style=\"text-align: right;\">\n",
              "      <th></th>\n",
              "      <th>Slope between 2020 and 2022</th>\n",
              "    </tr>\n",
              "  </thead>\n",
              "  <tbody>\n",
              "    <tr>\n",
              "      <th>count</th>\n",
              "      <td>1.940000e+02</td>\n",
              "    </tr>\n",
              "    <tr>\n",
              "      <th>mean</th>\n",
              "      <td>4.862177e+08</td>\n",
              "    </tr>\n",
              "    <tr>\n",
              "      <th>std</th>\n",
              "      <td>1.450020e+09</td>\n",
              "    </tr>\n",
              "    <tr>\n",
              "      <th>min</th>\n",
              "      <td>1.160000e+02</td>\n",
              "    </tr>\n",
              "    <tr>\n",
              "      <th>25%</th>\n",
              "      <td>7.539378e+06</td>\n",
              "    </tr>\n",
              "    <tr>\n",
              "      <th>50%</th>\n",
              "      <td>5.493690e+07</td>\n",
              "    </tr>\n",
              "    <tr>\n",
              "      <th>75%</th>\n",
              "      <td>2.681949e+08</td>\n",
              "    </tr>\n",
              "    <tr>\n",
              "      <th>max</th>\n",
              "      <td>1.505885e+10</td>\n",
              "    </tr>\n",
              "  </tbody>\n",
              "</table>\n",
              "</div><br><label><b>dtype:</b> float64</label>"
            ]
          },
          "metadata": {},
          "execution_count": 114
        }
      ]
    },
    {
      "cell_type": "code",
      "source": [
        "plt.scatter(y_test, pred)\n",
        "plt.plot([1.160000e+02, 1.505885e+10], [1.160000e+02, 1.505885e+10], '--k', alpha = 0.5,label=\"Correct prediction\")\n",
        "\n",
        "\n",
        "plt.axis('tight')\n",
        "\n",
        "\n",
        "plt.xlabel('True Infection Rate of Change')\n",
        "plt.ylabel('Predicted Infection Rate of Change')\n",
        "plt.title(\"Real vs predicted Infection Rate of Change\")\n",
        "\n",
        "plt.legend()\n",
        "plt.tight_layout()\n"
      ],
      "metadata": {
        "colab": {
          "base_uri": "https://localhost:8080/",
          "height": 487
        },
        "id": "N_yBnE73L19o",
        "outputId": "89b0a41c-c86a-40e5-852b-357673aef2e9"
      },
      "execution_count": 116,
      "outputs": [
        {
          "output_type": "display_data",
          "data": {
            "text/plain": [
              "<Figure size 640x480 with 1 Axes>"
            ],
            "image/png": "[encoded data removed]"
          },
          "metadata": {}
        }
      ]
    },
    {
      "cell_type": "code",
      "source": [
        "print('mean squared: ', mean_squared_error(y_test, pred))\n",
        "\n",
        "print('mean absolute: ', mean_absolute_error(y_test, pred))\n",
        "\n",
        "print('R2 score: ', r2_score(y_test, pred))"
      ],
      "metadata": {
        "colab": {
          "base_uri": "https://localhost:8080/"
        },
        "id": "N9sQ-W_QP-a9",
        "outputId": "2d6cc8a3-7667-41ec-a3cf-38b839da7650"
      },
      "execution_count": 117,
      "outputs": [
        {
          "output_type": "stream",
          "name": "stdout",
          "text": [
            "mean squared:  2.099525608735577e+17\n",
            "mean absolute:  429644517.78819984\n",
            "R2 score:  -2.250366903173131\n"
          ]
        }
      ]
    },
    {
      "cell_type": "markdown",
      "source": [
        "* Mean Squared = Not Satisfactory\n",
        "* Mean Absolute = Not Satisfactory\n",
        "* R2 Score = Not Satisfactory"
      ],
      "metadata": {
        "id": "zi1bvwySRQ7E"
      }
    },
    {
      "cell_type": "markdown",
      "source": [
        "![modeltesting.jpg](data:image/jpeg;base64,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)"
      ],
      "metadata": {
        "id": "-2NxU8lVR5bu"
      }
    },
    {
      "cell_type": "markdown",
      "source": [
        "\n",
        "\n",
        "---\n",
        "\n"
      ],
      "metadata": {
        "id": "PbWzK9FTuQzh"
      }
    },
    {
      "cell_type": "markdown",
      "source": [
        "# Linear Regression - Regions"
      ],
      "metadata": {
        "id": "gW9X_6CTduHt"
      }
    },
    {
      "cell_type": "code",
      "source": [
        "label2 = dropcords['Slope between 2020 and 2022']\n",
        "features2 = dropcords[['Region Avg People/Sq Km']]"
      ],
      "metadata": {
        "id": "FqPUin95dtjW"
      },
      "execution_count": 38,
      "outputs": []
    },
    {
      "cell_type": "code",
      "source": [
        "X_train2, X_test2, y_train2, y_test2 = model_selection.train_test_split(features, label, test_size=0.2, random_state=42)"
      ],
      "metadata": {
        "id": "smWmYtjUjADq"
      },
      "execution_count": 39,
      "outputs": []
    },
    {
      "cell_type": "code",
      "source": [
        "lr_model2 = LinearRegression()"
      ],
      "metadata": {
        "id": "8nAk1TbHjL4M"
      },
      "execution_count": 40,
      "outputs": []
    },
    {
      "cell_type": "code",
      "source": [
        "lr_model2.fit(X_train2, y_train2)"
      ],
      "metadata": {
        "colab": {
          "base_uri": "https://localhost:8080/",
          "height": 80
        },
        "id": "Akukp5bdkkYu",
        "outputId": "b8874902-a725-4809-d8aa-c9744ac12dc2"
      },
      "execution_count": 41,
      "outputs": [
        {
          "output_type": "execute_result",
          "data": {
            "text/plain": [
              "LinearRegression()"
            ],
            "text/html": [
              "<style>#sk-container-id-2 {\n",
              "  /* Definition of color scheme common for light and dark mode */\n",
              "  --sklearn-color-text: #000;\n",
              "  --sklearn-color-text-muted: #666;\n",
              "  --sklearn-color-line: gray;\n",
              "  /* Definition of color scheme for unfitted estimators */\n",
              "  --sklearn-color-unfitted-level-0: #fff5e6;\n",
              "  --sklearn-color-unfitted-level-1: #f6e4d2;\n",
              "  --sklearn-color-unfitted-level-2: #ffe0b3;\n",
              "  --sklearn-color-unfitted-level-3: chocolate;\n",
              "  /* Definition of color scheme for fitted estimators */\n",
              "  --sklearn-color-fitted-level-0: #f0f8ff;\n",
              "  --sklearn-color-fitted-level-1: #d4ebff;\n",
              "  --sklearn-color-fitted-level-2: #b3dbfd;\n",
              "  --sklearn-color-fitted-level-3: cornflowerblue;\n",
              "\n",
              "  /* Specific color for light theme */\n",
              "  --sklearn-color-text-on-default-background: var(--sg-text-color, var(--theme-code-foreground, var(--jp-content-font-color1, black)));\n",
              "  --sklearn-color-background: var(--sg-background-color, var(--theme-background, var(--jp-layout-color0, white)));\n",
              "  --sklearn-color-border-box: var(--sg-text-color, var(--theme-code-foreground, var(--jp-content-font-color1, black)));\n",
              "  --sklearn-color-icon: #696969;\n",
              "\n",
              "  @media (prefers-color-scheme: dark) {\n",
              "    /* Redefinition of color scheme for dark theme */\n",
              "    --sklearn-color-text-on-default-background: var(--sg-text-color, var(--theme-code-foreground, var(--jp-content-font-color1, white)));\n",
              "    --sklearn-color-background: var(--sg-background-color, var(--theme-background, var(--jp-layout-color0, #111)));\n",
              "    --sklearn-color-border-box: var(--sg-text-color, var(--theme-code-foreground, var(--jp-content-font-color1, white)));\n",
              "    --sklearn-color-icon: #878787;\n",
              "  }\n",
              "}\n",
              "\n",
              "#sk-container-id-2 {\n",
              "  color: var(--sklearn-color-text);\n",
              "}\n",
              "\n",
              "#sk-container-id-2 pre {\n",
              "  padding: 0;\n",
              "}\n",
              "\n",
              "#sk-container-id-2 input.sk-hidden--visually {\n",
              "  border: 0;\n",
              "  clip: rect(1px 1px 1px 1px);\n",
              "  clip: rect(1px, 1px, 1px, 1px);\n",
              "  height: 1px;\n",
              "  margin: -1px;\n",
              "  overflow: hidden;\n",
              "  padding: 0;\n",
              "  position: absolute;\n",
              "  width: 1px;\n",
              "}\n",
              "\n",
              "#sk-container-id-2 div.sk-dashed-wrapped {\n",
              "  border: 1px dashed var(--sklearn-color-line);\n",
              "  margin: 0 0.4em 0.5em 0.4em;\n",
              "  box-sizing: border-box;\n",
              "  padding-bottom: 0.4em;\n",
              "  background-color: var(--sklearn-color-background);\n",
              "}\n",
              "\n",
              "#sk-container-id-2 div.sk-container {\n",
              "  /* jupyter's `normalize.less` sets `[hidden] { display: none; }`\n",
              "     but bootstrap.min.css set `[hidden] { display: none !important; }`\n",
              "     so we also need the `!important` here to be able to override the\n",
              "     default hidden behavior on the sphinx rendered scikit-learn.org.\n",
              "     See: https://github.com/scikit-learn/scikit-learn/issues/21755 */\n",
              "  display: inline-block !important;\n",
              "  position: relative;\n",
              "}\n",
              "\n",
              "#sk-container-id-2 div.sk-text-repr-fallback {\n",
              "  display: none;\n",
              "}\n",
              "\n",
              "div.sk-parallel-item,\n",
              "div.sk-serial,\n",
              "div.sk-item {\n",
              "  /* draw centered vertical line to link estimators */\n",
              "  background-image: linear-gradient(var(--sklearn-color-text-on-default-background), var(--sklearn-color-text-on-default-background));\n",
              "  background-size: 2px 100%;\n",
              "  background-repeat: no-repeat;\n",
              "  background-position: center center;\n",
              "}\n",
              "\n",
              "/* Parallel-specific style estimator block */\n",
              "\n",
              "#sk-container-id-2 div.sk-parallel-item::after {\n",
              "  content: \"\";\n",
              "  width: 100%;\n",
              "  border-bottom: 2px solid var(--sklearn-color-text-on-default-background);\n",
              "  flex-grow: 1;\n",
              "}\n",
              "\n",
              "#sk-container-id-2 div.sk-parallel {\n",
              "  display: flex;\n",
              "  align-items: stretch;\n",
              "  justify-content: center;\n",
              "  background-color: var(--sklearn-color-background);\n",
              "  position: relative;\n",
              "}\n",
              "\n",
              "#sk-container-id-2 div.sk-parallel-item {\n",
              "  display: flex;\n",
              "  flex-direction: column;\n",
              "}\n",
              "\n",
              "#sk-container-id-2 div.sk-parallel-item:first-child::after {\n",
              "  align-self: flex-end;\n",
              "  width: 50%;\n",
              "}\n",
              "\n",
              "#sk-container-id-2 div.sk-parallel-item:last-child::after {\n",
              "  align-self: flex-start;\n",
              "  width: 50%;\n",
              "}\n",
              "\n",
              "#sk-container-id-2 div.sk-parallel-item:only-child::after {\n",
              "  width: 0;\n",
              "}\n",
              "\n",
              "/* Serial-specific style estimator block */\n",
              "\n",
              "#sk-container-id-2 div.sk-serial {\n",
              "  display: flex;\n",
              "  flex-direction: column;\n",
              "  align-items: center;\n",
              "  background-color: var(--sklearn-color-background);\n",
              "  padding-right: 1em;\n",
              "  padding-left: 1em;\n",
              "}\n",
              "\n",
              "\n",
              "/* Toggleable style: style used for estimator/Pipeline/ColumnTransformer box that is\n",
              "clickable and can be expanded/collapsed.\n",
              "- Pipeline and ColumnTransformer use this feature and define the default style\n",
              "- Estimators will overwrite some part of the style using the `sk-estimator` class\n",
              "*/\n",
              "\n",
              "/* Pipeline and ColumnTransformer style (default) */\n",
              "\n",
              "#sk-container-id-2 div.sk-toggleable {\n",
              "  /* Default theme specific background. It is overwritten whether we have a\n",
              "  specific estimator or a Pipeline/ColumnTransformer */\n",
              "  background-color: var(--sklearn-color-background);\n",
              "}\n",
              "\n",
              "/* Toggleable label */\n",
              "#sk-container-id-2 label.sk-toggleable__label {\n",
              "  cursor: pointer;\n",
              "  display: flex;\n",
              "  width: 100%;\n",
              "  margin-bottom: 0;\n",
              "  padding: 0.5em;\n",
              "  box-sizing: border-box;\n",
              "  text-align: center;\n",
              "  align-items: start;\n",
              "  justify-content: space-between;\n",
              "  gap: 0.5em;\n",
              "}\n",
              "\n",
              "#sk-container-id-2 label.sk-toggleable__label .caption {\n",
              "  font-size: 0.6rem;\n",
              "  font-weight: lighter;\n",
              "  color: var(--sklearn-color-text-muted);\n",
              "}\n",
              "\n",
              "#sk-container-id-2 label.sk-toggleable__label-arrow:before {\n",
              "  /* Arrow on the left of the label */\n",
              "  content: \"▸\";\n",
              "  float: left;\n",
              "  margin-right: 0.25em;\n",
              "  color: var(--sklearn-color-icon);\n",
              "}\n",
              "\n",
              "#sk-container-id-2 label.sk-toggleable__label-arrow:hover:before {\n",
              "  color: var(--sklearn-color-text);\n",
              "}\n",
              "\n",
              "/* Toggleable content - dropdown */\n",
              "\n",
              "#sk-container-id-2 div.sk-toggleable__content {\n",
              "  max-height: 0;\n",
              "  max-width: 0;\n",
              "  overflow: hidden;\n",
              "  text-align: left;\n",
              "  /* unfitted */\n",
              "  background-color: var(--sklearn-color-unfitted-level-0);\n",
              "}\n",
              "\n",
              "#sk-container-id-2 div.sk-toggleable__content.fitted {\n",
              "  /* fitted */\n",
              "  background-color: var(--sklearn-color-fitted-level-0);\n",
              "}\n",
              "\n",
              "#sk-container-id-2 div.sk-toggleable__content pre {\n",
              "  margin: 0.2em;\n",
              "  border-radius: 0.25em;\n",
              "  color: var(--sklearn-color-text);\n",
              "  /* unfitted */\n",
              "  background-color: var(--sklearn-color-unfitted-level-0);\n",
              "}\n",
              "\n",
              "#sk-container-id-2 div.sk-toggleable__content.fitted pre {\n",
              "  /* unfitted */\n",
              "  background-color: var(--sklearn-color-fitted-level-0);\n",
              "}\n",
              "\n",
              "#sk-container-id-2 input.sk-toggleable__control:checked~div.sk-toggleable__content {\n",
              "  /* Expand drop-down */\n",
              "  max-height: 200px;\n",
              "  max-width: 100%;\n",
              "  overflow: auto;\n",
              "}\n",
              "\n",
              "#sk-container-id-2 input.sk-toggleable__control:checked~label.sk-toggleable__label-arrow:before {\n",
              "  content: \"▾\";\n",
              "}\n",
              "\n",
              "/* Pipeline/ColumnTransformer-specific style */\n",
              "\n",
              "#sk-container-id-2 div.sk-label input.sk-toggleable__control:checked~label.sk-toggleable__label {\n",
              "  color: var(--sklearn-color-text);\n",
              "  background-color: var(--sklearn-color-unfitted-level-2);\n",
              "}\n",
              "\n",
              "#sk-container-id-2 div.sk-label.fitted input.sk-toggleable__control:checked~label.sk-toggleable__label {\n",
              "  background-color: var(--sklearn-color-fitted-level-2);\n",
              "}\n",
              "\n",
              "/* Estimator-specific style */\n",
              "\n",
              "/* Colorize estimator box */\n",
              "#sk-container-id-2 div.sk-estimator input.sk-toggleable__control:checked~label.sk-toggleable__label {\n",
              "  /* unfitted */\n",
              "  background-color: var(--sklearn-color-unfitted-level-2);\n",
              "}\n",
              "\n",
              "#sk-container-id-2 div.sk-estimator.fitted input.sk-toggleable__control:checked~label.sk-toggleable__label {\n",
              "  /* fitted */\n",
              "  background-color: var(--sklearn-color-fitted-level-2);\n",
              "}\n",
              "\n",
              "#sk-container-id-2 div.sk-label label.sk-toggleable__label,\n",
              "#sk-container-id-2 div.sk-label label {\n",
              "  /* The background is the default theme color */\n",
              "  color: var(--sklearn-color-text-on-default-background);\n",
              "}\n",
              "\n",
              "/* On hover, darken the color of the background */\n",
              "#sk-container-id-2 div.sk-label:hover label.sk-toggleable__label {\n",
              "  color: var(--sklearn-color-text);\n",
              "  background-color: var(--sklearn-color-unfitted-level-2);\n",
              "}\n",
              "\n",
              "/* Label box, darken color on hover, fitted */\n",
              "#sk-container-id-2 div.sk-label.fitted:hover label.sk-toggleable__label.fitted {\n",
              "  color: var(--sklearn-color-text);\n",
              "  background-color: var(--sklearn-color-fitted-level-2);\n",
              "}\n",
              "\n",
              "/* Estimator label */\n",
              "\n",
              "#sk-container-id-2 div.sk-label label {\n",
              "  font-family: monospace;\n",
              "  font-weight: bold;\n",
              "  display: inline-block;\n",
              "  line-height: 1.2em;\n",
              "}\n",
              "\n",
              "#sk-container-id-2 div.sk-label-container {\n",
              "  text-align: center;\n",
              "}\n",
              "\n",
              "/* Estimator-specific */\n",
              "#sk-container-id-2 div.sk-estimator {\n",
              "  font-family: monospace;\n",
              "  border: 1px dotted var(--sklearn-color-border-box);\n",
              "  border-radius: 0.25em;\n",
              "  box-sizing: border-box;\n",
              "  margin-bottom: 0.5em;\n",
              "  /* unfitted */\n",
              "  background-color: var(--sklearn-color-unfitted-level-0);\n",
              "}\n",
              "\n",
              "#sk-container-id-2 div.sk-estimator.fitted {\n",
              "  /* fitted */\n",
              "  background-color: var(--sklearn-color-fitted-level-0);\n",
              "}\n",
              "\n",
              "/* on hover */\n",
              "#sk-container-id-2 div.sk-estimator:hover {\n",
              "  /* unfitted */\n",
              "  background-color: var(--sklearn-color-unfitted-level-2);\n",
              "}\n",
              "\n",
              "#sk-container-id-2 div.sk-estimator.fitted:hover {\n",
              "  /* fitted */\n",
              "  background-color: var(--sklearn-color-fitted-level-2);\n",
              "}\n",
              "\n",
              "/* Specification for estimator info (e.g. \"i\" and \"?\") */\n",
              "\n",
              "/* Common style for \"i\" and \"?\" */\n",
              "\n",
              ".sk-estimator-doc-link,\n",
              "a:link.sk-estimator-doc-link,\n",
              "a:visited.sk-estimator-doc-link {\n",
              "  float: right;\n",
              "  font-size: smaller;\n",
              "  line-height: 1em;\n",
              "  font-family: monospace;\n",
              "  background-color: var(--sklearn-color-background);\n",
              "  border-radius: 1em;\n",
              "  height: 1em;\n",
              "  width: 1em;\n",
              "  text-decoration: none !important;\n",
              "  margin-left: 0.5em;\n",
              "  text-align: center;\n",
              "  /* unfitted */\n",
              "  border: var(--sklearn-color-unfitted-level-1) 1pt solid;\n",
              "  color: var(--sklearn-color-unfitted-level-1);\n",
              "}\n",
              "\n",
              ".sk-estimator-doc-link.fitted,\n",
              "a:link.sk-estimator-doc-link.fitted,\n",
              "a:visited.sk-estimator-doc-link.fitted {\n",
              "  /* fitted */\n",
              "  border: var(--sklearn-color-fitted-level-1) 1pt solid;\n",
              "  color: var(--sklearn-color-fitted-level-1);\n",
              "}\n",
              "\n",
              "/* On hover */\n",
              "div.sk-estimator:hover .sk-estimator-doc-link:hover,\n",
              ".sk-estimator-doc-link:hover,\n",
              "div.sk-label-container:hover .sk-estimator-doc-link:hover,\n",
              ".sk-estimator-doc-link:hover {\n",
              "  /* unfitted */\n",
              "  background-color: var(--sklearn-color-unfitted-level-3);\n",
              "  color: var(--sklearn-color-background);\n",
              "  text-decoration: none;\n",
              "}\n",
              "\n",
              "div.sk-estimator.fitted:hover .sk-estimator-doc-link.fitted:hover,\n",
              ".sk-estimator-doc-link.fitted:hover,\n",
              "div.sk-label-container:hover .sk-estimator-doc-link.fitted:hover,\n",
              ".sk-estimator-doc-link.fitted:hover {\n",
              "  /* fitted */\n",
              "  background-color: var(--sklearn-color-fitted-level-3);\n",
              "  color: var(--sklearn-color-background);\n",
              "  text-decoration: none;\n",
              "}\n",
              "\n",
              "/* Span, style for the box shown on hovering the info icon */\n",
              ".sk-estimator-doc-link span {\n",
              "  display: none;\n",
              "  z-index: 9999;\n",
              "  position: relative;\n",
              "  font-weight: normal;\n",
              "  right: .2ex;\n",
              "  padding: .5ex;\n",
              "  margin: .5ex;\n",
              "  width: min-content;\n",
              "  min-width: 20ex;\n",
              "  max-width: 50ex;\n",
              "  color: var(--sklearn-color-text);\n",
              "  box-shadow: 2pt 2pt 4pt #999;\n",
              "  /* unfitted */\n",
              "  background: var(--sklearn-color-unfitted-level-0);\n",
              "  border: .5pt solid var(--sklearn-color-unfitted-level-3);\n",
              "}\n",
              "\n",
              ".sk-estimator-doc-link.fitted span {\n",
              "  /* fitted */\n",
              "  background: var(--sklearn-color-fitted-level-0);\n",
              "  border: var(--sklearn-color-fitted-level-3);\n",
              "}\n",
              "\n",
              ".sk-estimator-doc-link:hover span {\n",
              "  display: block;\n",
              "}\n",
              "\n",
              "/* \"?\"-specific style due to the `<a>` HTML tag */\n",
              "\n",
              "#sk-container-id-2 a.estimator_doc_link {\n",
              "  float: right;\n",
              "  font-size: 1rem;\n",
              "  line-height: 1em;\n",
              "  font-family: monospace;\n",
              "  background-color: var(--sklearn-color-background);\n",
              "  border-radius: 1rem;\n",
              "  height: 1rem;\n",
              "  width: 1rem;\n",
              "  text-decoration: none;\n",
              "  /* unfitted */\n",
              "  color: var(--sklearn-color-unfitted-level-1);\n",
              "  border: var(--sklearn-color-unfitted-level-1) 1pt solid;\n",
              "}\n",
              "\n",
              "#sk-container-id-2 a.estimator_doc_link.fitted {\n",
              "  /* fitted */\n",
              "  border: var(--sklearn-color-fitted-level-1) 1pt solid;\n",
              "  color: var(--sklearn-color-fitted-level-1);\n",
              "}\n",
              "\n",
              "/* On hover */\n",
              "#sk-container-id-2 a.estimator_doc_link:hover {\n",
              "  /* unfitted */\n",
              "  background-color: var(--sklearn-color-unfitted-level-3);\n",
              "  color: var(--sklearn-color-background);\n",
              "  text-decoration: none;\n",
              "}\n",
              "\n",
              "#sk-container-id-2 a.estimator_doc_link.fitted:hover {\n",
              "  /* fitted */\n",
              "  background-color: var(--sklearn-color-fitted-level-3);\n",
              "}\n",
              "</style><div id=\"sk-container-id-2\" class=\"sk-top-container\"><div class=\"sk-text-repr-fallback\"><pre>LinearRegression()</pre><b>In a Jupyter environment, please rerun this cell to show the HTML representation or trust the notebook. <br />On GitHub, the HTML representation is unable to render, please try loading this page with nbviewer.org.</b></div><div class=\"sk-container\" hidden><div class=\"sk-item\"><div class=\"sk-estimator fitted sk-toggleable\"><input class=\"sk-toggleable__control sk-hidden--visually\" id=\"sk-estimator-id-2\" type=\"checkbox\" checked><label for=\"sk-estimator-id-2\" class=\"sk-toggleable__label fitted sk-toggleable__label-arrow\"><div><div>LinearRegression</div></div><div><a class=\"sk-estimator-doc-link fitted\" rel=\"noreferrer\" target=\"_blank\" href=\"https://scikit-learn.org/1.6/modules/generated/sklearn.linear_model.LinearRegression.html\">?<span>Documentation for LinearRegression</span></a><span class=\"sk-estimator-doc-link fitted\">i<span>Fitted</span></span></div></label><div class=\"sk-toggleable__content fitted\"><pre>LinearRegression()</pre></div> </div></div></div></div>"
            ]
          },
          "metadata": {},
          "execution_count": 41
        }
      ]
    },
    {
      "cell_type": "code",
      "source": [
        "pred2 = lr_model2.predict(X_test2)"
      ],
      "metadata": {
        "id": "fRCJAxiskq8Z"
      },
      "execution_count": 42,
      "outputs": []
    },
    {
      "cell_type": "code",
      "source": [
        "plt.scatter(y_test2, pred2)\n",
        "plt.plot([2.833238e+06, 1.373440e+10], [2.833238e+06, 1.373440e+10], '--k', alpha = 0.5,label=\"Correct prediction\")\n",
        "\n",
        "\n",
        "\n",
        "plt.xlabel('True Infection Rate of Change')\n",
        "plt.ylabel('Predicted Infection Rate of Change')\n",
        "plt.title(\"Real vs predicted Infection Rate of Change\")\n",
        "\n",
        "plt.legend()\n",
        "plt.tight_layout()"
      ],
      "metadata": {
        "colab": {
          "base_uri": "https://localhost:8080/",
          "height": 487
        },
        "id": "nLM01DaZjR_E",
        "outputId": "5fb9497b-82f1-470b-9877-2f675cde311b"
      },
      "execution_count": 43,
      "outputs": [
        {
          "output_type": "display_data",
          "data": {
            "text/plain": [
              "<Figure size 640x480 with 1 Axes>"
            ],
            "image/png": "[encoded data removed]"
          },
          "metadata": {}
        }
      ]
    },
    {
      "cell_type": "code",
      "source": [
        "print('mean squared: ', mean_squared_error(y_test2, pred2))\n",
        "\n",
        "print('mean absolute: ', mean_absolute_error(y_test2, pred2))\n",
        "\n",
        "print('R2 score: ', r2_score(y_test2, pred2))"
      ],
      "metadata": {
        "colab": {
          "base_uri": "https://localhost:8080/"
        },
        "id": "qLMMU3iek37v",
        "outputId": "406166b4-db5a-4fb0-fe2a-2667497aac4b"
      },
      "execution_count": 44,
      "outputs": [
        {
          "output_type": "stream",
          "name": "stdout",
          "text": [
            "mean squared:  2.099525608735577e+17\n",
            "mean absolute:  429644517.78819984\n",
            "R2 score:  -2.250366903173131\n"
          ]
        }
      ]
    },
    {
      "cell_type": "markdown",
      "source": [
        "\n",
        "\n",
        "---\n",
        "\n"
      ],
      "metadata": {
        "id": "R5h5yuSAuSTK"
      }
    },
    {
      "cell_type": "markdown",
      "source": [
        "# Final Visualizations"
      ],
      "metadata": {
        "id": "C15lOdLZU6fN"
      }
    },
    {
      "cell_type": "code",
      "source": [
        "years = [2020, 2021, 2022, 2023]\n",
        "\n",
        "\n",
        "AuNZ_values = [cleaned.iloc[0, 3], cleaned.iloc[0, 4], cleaned.iloc[0, 5], cleaned.iloc[0, 6]]\n",
        "\n",
        "CenAf_values = [cleaned.iloc[1, 3], cleaned.iloc[1, 4], cleaned.iloc[1, 5], cleaned.iloc[1, 6]]\n",
        "\n",
        "CenAm_values = [cleaned.iloc[2, 3], cleaned.iloc[2, 4], cleaned.iloc[2, 5], cleaned.iloc[2, 6]]\n",
        "\n",
        "CenAs_values = [cleaned.iloc[3, 3], cleaned.iloc[3, 4], cleaned.iloc[3, 5], cleaned.iloc[3, 6]]\n",
        "\n",
        "EaAf_values = [cleaned.iloc[4, 3], cleaned.iloc[4, 4], cleaned.iloc[4, 5], cleaned.iloc[4, 6]]\n",
        "\n",
        "EaAs_values = [cleaned.iloc[5, 3], cleaned.iloc[5, 4], cleaned.iloc[5, 5], cleaned.iloc[5, 6]]\n",
        "\n",
        "EaEu_values = [cleaned.iloc[6, 3], cleaned.iloc[6, 4], cleaned.iloc[6, 5], cleaned.iloc[6, 6]]\n",
        "\n",
        "Mel_values = [cleaned.iloc[7, 3], cleaned.iloc[7, 4], cleaned.iloc[7, 5], cleaned.iloc[7, 6]]\n",
        "\n",
        "MiEa_values = [cleaned.iloc[8, 3], cleaned.iloc[8, 4], cleaned.iloc[8, 5], cleaned.iloc[8, 6]]\n",
        "\n",
        "Mirco_values = [cleaned.iloc[9, 3], cleaned.iloc[9, 4], cleaned.iloc[9, 5], cleaned.iloc[9, 6]]\n",
        "\n",
        "NoAf_values = [cleaned.iloc[10, 3], cleaned.iloc[10, 4], cleaned.iloc[10, 5], cleaned.iloc[10, 6]]\n",
        "\n",
        "NoAm_values = [cleaned.iloc[11, 3], cleaned.iloc[11, 4], cleaned.iloc[11, 5], cleaned.iloc[11, 6]]\n",
        "\n",
        "NoEu_values = [cleaned.iloc[12, 3], cleaned.iloc[12, 4], cleaned.iloc[12, 5], cleaned.iloc[12, 6]]\n",
        "\n",
        "Poly_values = [cleaned.iloc[13, 3], cleaned.iloc[13, 4], cleaned.iloc[13, 5], cleaned.iloc[13, 6]]\n",
        "\n",
        "SoAf_values = [cleaned.iloc[14, 3], cleaned.iloc[14, 4], cleaned.iloc[14, 5], cleaned.iloc[14, 6]]\n",
        "\n",
        "SoAm_values = [cleaned.iloc[15, 3], cleaned.iloc[15, 4], cleaned.iloc[15, 5], cleaned.iloc[15, 6]]\n",
        "\n",
        "SoAs_values = [cleaned.iloc[16, 3], cleaned.iloc[16, 4], cleaned.iloc[16, 5], cleaned.iloc[16, 6]]\n",
        "\n",
        "SoEu_values = [cleaned.iloc[17, 3], cleaned.iloc[17, 4], cleaned.iloc[17, 5], cleaned.iloc[17, 6]]\n",
        "\n",
        "SEAs_values = [cleaned.iloc[18, 3], cleaned.iloc[18, 4], cleaned.iloc[18, 5], cleaned.iloc[18, 6]]\n",
        "\n",
        "WeAf_values = [cleaned.iloc[19, 3], cleaned.iloc[19, 4], cleaned.iloc[19, 5], cleaned.iloc[19, 6]]\n",
        "\n",
        "WeEu_values = [cleaned.iloc[20, 3], cleaned.iloc[20, 4], cleaned.iloc[20, 5], cleaned.iloc[20, 6]]\n",
        "\n",
        "\n",
        "\n",
        "plt.plot(years, AuNZ_values, color='#1f77b4', alpha = 0.7, label='Australia and New Zealand') #1\n",
        "plt.plot(years, CenAf_values, color='#ff7f0e',  alpha = 0.7, label='Central Africa') #2\n",
        "plt.plot(years, CenAm_values, color='#636363', alpha = 0.7, label='Central America') #3\n",
        "plt.plot(years, CenAs_values, color='#fd8d3c', alpha = 0.7, label='Central Asia') #4\n",
        "plt.plot(years, EaAf_values, color='#2ca02c', alpha = 0.7, label='East Africa') #5\n",
        "plt.plot(years, EaAs_values, color='#d62728', alpha = 0.7, label='East Asia') #6\n",
        "plt.plot(years, EaEu_values, color='#9467bd', alpha = 0.7, label='East Europe') #7\n",
        "plt.plot(years, Mel_values, color='#8c564b', alpha = 0.7, label='Melanesia') #8\n",
        "plt.plot(years, MiEa_values, color='#e377c2', alpha = 0.7, label='Middle East') #9\n",
        "plt.plot(years, Mirco_values, color='#7f7f7f', alpha = 0.7, label='Mirconesia') #10\n",
        "plt.plot(years, NoAf_values, color='#bcbd22', alpha = 0.7, label='North Africa') #11\n",
        "plt.plot(years, NoAm_values, color='#17becf', alpha = 0.7, label='North America') #12\n",
        "plt.plot(years, NoEu_values, color='#393b79', alpha = 0.7, label='North Europe') #13\n",
        "plt.plot(years, Poly_values, color='#637939', alpha = 0.7, label='Polynesia') #14\n",
        "plt.plot(years, SoAf_values, color='#8c6d31', alpha = 0.7, label='South Africa') #15\n",
        "plt.plot(years, SoAm_values, color='#843c39', alpha = 0.7, label='South America') #16\n",
        "plt.plot(years, SoAs_values, color='#7b4173', alpha = 0.7, label='South Asia') #17\n",
        "plt.plot(years, SoEu_values, color='#3182bd', alpha = 0.7, label='South Europe') #18\n",
        "plt.plot(years, SEAs_values, color='#e6550d', alpha = 0.7, label='Southeast Asia') #19\n",
        "plt.plot(years, WeAf_values,color='#31a354', alpha = 0.7, label='West Africa') #20\n",
        "plt.plot(years, WeEu_values, color='#756bb1', alpha = 0.7, label='West Europe') #21\n",
        "\n",
        "\n",
        "plt.ylabel('# of confirmed cases')\n",
        "plt.xlabel('Years')\n",
        "plt.title('Confirmed Cases of Covid Between 2020-2023')\n",
        "plt.xticks(rotation = 60)\n",
        "plt.legend()\n",
        "plt.grid()\n",
        "plt.legend(loc='upper left', bbox_to_anchor=(1, 1.1))\n",
        "plt.savefig('CovidLine1.png')\n",
        "plt.show()\n",
        "\n"
      ],
      "metadata": {
        "colab": {
          "base_uri": "https://localhost:8080/",
          "height": 514
        },
        "id": "FRefZ6a-Vaem",
        "outputId": "ab5e7b18-5ddb-4737-cc60-484e05fe10be"
      },
      "execution_count": 45,
      "outputs": [
        {
          "output_type": "display_data",
          "data": {
            "text/plain": [
              "<Figure size 640x480 with 1 Axes>"
            ],
            "image/png": "[encoded data removed]"
          },
          "metadata": {}
        }
      ]
    },
    {
      "cell_type": "code",
      "source": [
        "x = LRdata['Country People/Sq Km']\n",
        "y = LRdata['Slope between 2020 and 2022']\n",
        "colors = np.random.rand(194)\n",
        "plt.scatter(x,y, alpha = 0.7, c=colors, cmap='viridis')\n",
        "plt.xlabel('Population Density')\n",
        "plt.ylabel('Cases/Year')\n",
        "plt.show()"
      ],
      "metadata": {
        "colab": {
          "base_uri": "https://localhost:8080/",
          "height": 465
        },
        "id": "IzIoMBqfVBDL",
        "outputId": "50147461-f15e-411a-a461-cec88fc0a741"
      },
      "execution_count": 46,
      "outputs": [
        {
          "output_type": "display_data",
          "data": {
            "text/plain": [
              "<Figure size 640x480 with 1 Axes>"
            ],
            "image/png": "[encoded data removed]"
          },
          "metadata": {}
        }
      ]
    },
    {
      "cell_type": "code",
      "source": [
        "noextremes = LRdata.drop([182, 158, 193, 132])"
      ],
      "metadata": {
        "id": "cgNyxf1Tz2Eg"
      },
      "execution_count": 47,
      "outputs": []
    },
    {
      "cell_type": "code",
      "source": [
        "x = noextremes['Country People/Sq Km']\n",
        "y = noextremes[2022]\n",
        "colors = np.random.rand(190)\n",
        "plt.scatter(x,y, alpha = 0.5, c=colors, cmap='viridis')\n",
        "plt.title('Population Density vs Covid Cases of Covid During the Height of the Pandemic')\n",
        "plt.xlabel('People Per Square Kilometer')\n",
        "plt.ylabel('Confirmed Cases of Covid in 2022')\n",
        "plt.show()"
      ],
      "metadata": {
        "colab": {
          "base_uri": "https://localhost:8080/",
          "height": 487
        },
        "id": "l-M8FDZx0H3a",
        "outputId": "fa56834d-416f-4a2b-aaf4-e5df1926f3dd"
      },
      "execution_count": 48,
      "outputs": [
        {
          "output_type": "display_data",
          "data": {
            "text/plain": [
              "<Figure size 640x480 with 1 Axes>"
            ],
            "image/png": "[encoded data removed]"
          },
          "metadata": {}
        }
      ]
    },
    {
      "cell_type": "code",
      "source": [
        "noextremes['Place'].unique()"
      ],
      "metadata": {
        "colab": {
          "base_uri": "https://localhost:8080/"
        },
        "id": "tsrD7GfF8ffa",
        "outputId": "32965363-ca4d-4085-91a0-4c725083fbac"
      },
      "execution_count": 49,
      "outputs": [
        {
          "output_type": "execute_result",
          "data": {
            "text/plain": [
              "array(['Australia and New Zealand', 'Central Africa', 'Central America',\n",
              "       'Central Asia', 'East Africa', 'East Asia', 'East Europe',\n",
              "       'Melanesia', 'Middle East', 'Mirconesia', 'North Africa',\n",
              "       'North America', 'North Europe', 'Polynesia', 'South Africa',\n",
              "       'South America', 'South Asia', 'South Europe', 'Southeast Asia',\n",
              "       'West Africa', 'West Europe', nan], dtype=object)"
            ]
          },
          "metadata": {},
          "execution_count": 49
        }
      ]
    },
    {
      "cell_type": "code",
      "source": [
        "\n",
        "cat_column = noextremes['Place']\n",
        "cat_series = pd.Series(cat_column)\n",
        "cat_codes = cat_series.astype('category').cat.codes\n",
        "categories = ['Australia and New Zealand', 'Central Africa', 'Central America',\n",
        "       'Central Asia', 'East Africa', 'East Asia', 'East Europe',\n",
        "       'Melanesia', 'Middle East', 'Mirconesia', 'North Africa',\n",
        "       'North America', 'North Europe', 'Polynesia', 'South Africa',\n",
        "       'South America', 'South Asia', 'South Europe', 'Southeast Asia',\n",
        "       'West Africa', 'West Europe']\n",
        "\n",
        "# Create a colormap (use tab10 for up to 10 distinct colors)\n",
        "cmap = plt.cm.get_cmap('tab20', len(categories))\n",
        "\n",
        "x = noextremes['Country People/Sq Km']\n",
        "y = noextremes[2022]\n",
        "\n",
        "plt.scatter(x, y, c=cat_codes, cmap=cmap, alpha=0.6)\n",
        "\n",
        "plt.title('Population Density vs Covid Cases During the Height of the Pandemic', loc='center', x=0.65, y=1.05)\n",
        "plt.xlabel('People Per Square Kilometer')\n",
        "plt.ylabel('Confirmed Cases of Covid in 2022')\n",
        "plt.legend( fontsize=8, loc='upper left', bbox_to_anchor=(1, 0.95))\n",
        "\n",
        "plt.show()"
      ],
      "metadata": {
        "colab": {
          "base_uri": "https://localhost:8080/",
          "height": 490
        },
        "id": "53E0Bh1q6-Rx",
        "outputId": "85e996ab-bda1-4df2-dc49-e7bae113ca8f"
      },
      "execution_count": 126,
      "outputs": [
        {
          "output_type": "display_data",
          "data": {
            "text/plain": [
              "<Figure size 640x480 with 1 Axes>"
            ],
            "image/png": "[encoded data removed]"
          },
          "metadata": {}
        }
      ]
    },
    {
      "cell_type": "code",
      "source": [
        "# @title\n",
        "#cat_column = noextremes['Place']\n",
        "#cat_series = pd.Series(cat_column)\n",
        "#cat_codes = cat_series.astype('category').cat.codes\n",
        "#categories = ['Australia and New Zealand', 'Central Africa', 'Central America',\n",
        "      # 'Central Asia', 'East Africa', 'East Asia', 'East Europe',\n",
        "       #'Melanesia', 'Middle East', 'Mirconesia', 'North Africa',\n",
        "       #'North America', 'North Europe', 'Polynesia', 'South Africa',\n",
        "       #'South America', 'South Asia', 'South Europe', 'Southeast Asia',\n",
        "       #'West Africa', 'West Europe']\n",
        "\n",
        "# Create a colormap (use tab10 for up to 10 distinct colors)\n",
        "#cmap = plt.cm.get_cmap('tab20', len(categories))\n",
        "\n",
        "x = noextremes['Country People/Sq Km']\n",
        "y = noextremes['Slope between 2020 and 2022']\n",
        "\n",
        "plt.scatter(x, y, alpha = 0.6)\n",
        "            #c=cat_codes, cmap=cmap, alpha=0.6)\n",
        "#plt.xlim(xmax=1250)\n",
        "#plt.ylim(ymax=9000000000)\n",
        "\n",
        "plt.title('Population Density vs Covid Cases Average Growth Per Year') #loc='center', x=0.65, y=1.05)\n",
        "plt.xlabel('People Per Square Kilometer')\n",
        "plt.ylabel('Covid Average Growth Per Year')\n",
        "plt.legend( fontsize=8, loc='upper left', bbox_to_anchor=(1, 0.95))\n",
        "\n",
        "plt.show()"
      ],
      "metadata": {
        "colab": {
          "base_uri": "https://localhost:8080/",
          "height": 487
        },
        "cellView": "form",
        "collapsed": true,
        "id": "fu_gz6rjtH_C",
        "outputId": "cc336eef-5ab4-4ebe-ba42-fbeb6cf24a8c"
      },
      "execution_count": 127,
      "outputs": [
        {
          "output_type": "display_data",
          "data": {
            "text/plain": [
              "<Figure size 640x480 with 1 Axes>"
            ],
            "image/png": "[encoded data removed]"
          },
          "metadata": {}
        }
      ]
    },
    {
      "cell_type": "code",
      "source": [
        "plt.bar(cleaned['Place'], cleaned[2022])\n",
        "\n",
        "\n",
        "plt.xlabel('Contries')\n",
        "plt.ylabel('# of confirmed cases')\n",
        "plt.title('2020')\n",
        "plt.xticks(rotation = 90)\n",
        "\n",
        "plt.show()"
      ],
      "metadata": {
        "colab": {
          "base_uri": "https://localhost:8080/",
          "height": 646
        },
        "id": "kz2NximhVSab",
        "outputId": "f0cf974d-2998-4031-c249-4f276cfd21f0"
      },
      "execution_count": 53,
      "outputs": [
        {
          "output_type": "display_data",
          "data": {
            "text/plain": [
              "<Figure size 640x480 with 1 Axes>"
            ],
            "image/png": "[encoded data removed]"
          },
          "metadata": {}
        }
      ]
    },
    {
      "cell_type": "code",
      "source": [
        "plt.bar(dropcords['Infection Speed'], dropcords['Region Avg People/Sq Km'])\n",
        "plt.xlabel('Infection Speed')\n",
        "plt.ylabel('Population Density')\n",
        "plt.show()"
      ],
      "metadata": {
        "colab": {
          "base_uri": "https://localhost:8080/",
          "height": 757
        },
        "id": "cmTD6D3dVLcl",
        "outputId": "621fd76d-8f36-4cf6-cf3b-d785fe4b5f21"
      },
      "execution_count": 52,
      "outputs": [
        {
          "output_type": "error",
          "ename": "TypeError",
          "evalue": "'value' must be an instance of str or bytes, not a float",
          "traceback": [
            "\u001b[0;31m---------------------------------------------------------------------------\u001b[0m",
            "\u001b[0;31mTypeError\u001b[0m                                 Traceback (most recent call last)",
            "\u001b[0;32m/tmp/ipython-input-4137432856.py\u001b[0m in \u001b[0;36m<cell line: 0>\u001b[0;34m()\u001b[0m\n\u001b[0;32m----> 1\u001b[0;31m \u001b[0mplt\u001b[0m\u001b[0;34m.\u001b[0m\u001b[0mbar\u001b[0m\u001b[0;34m(\u001b[0m\u001b[0mdropcords\u001b[0m\u001b[0;34m[\u001b[0m\u001b[0;34m'Infection Speed'\u001b[0m\u001b[0;34m]\u001b[0m\u001b[0;34m,\u001b[0m \u001b[0mdropcords\u001b[0m\u001b[0;34m[\u001b[0m\u001b[0;34m'Region Avg People/Sq Km'\u001b[0m\u001b[0;34m]\u001b[0m\u001b[0;34m)\u001b[0m\u001b[0;34m\u001b[0m\u001b[0;34m\u001b[0m\u001b[0m\n\u001b[0m\u001b[1;32m      2\u001b[0m \u001b[0mplt\u001b[0m\u001b[0;34m.\u001b[0m\u001b[0mxlabel\u001b[0m\u001b[0;34m(\u001b[0m\u001b[0;34m'Infection Speed'\u001b[0m\u001b[0;34m)\u001b[0m\u001b[0;34m\u001b[0m\u001b[0;34m\u001b[0m\u001b[0m\n\u001b[1;32m      3\u001b[0m \u001b[0mplt\u001b[0m\u001b[0;34m.\u001b[0m\u001b[0mylabel\u001b[0m\u001b[0;34m(\u001b[0m\u001b[0;34m'Population Density'\u001b[0m\u001b[0;34m)\u001b[0m\u001b[0;34m\u001b[0m\u001b[0;34m\u001b[0m\u001b[0m\n\u001b[1;32m      4\u001b[0m \u001b[0mplt\u001b[0m\u001b[0;34m.\u001b[0m\u001b[0mshow\u001b[0m\u001b[0;34m(\u001b[0m\u001b[0;34m)\u001b[0m\u001b[0;34m\u001b[0m\u001b[0;34m\u001b[0m\u001b[0m\n",
            "\u001b[0;32m/usr/local/lib/python3.11/dist-packages/matplotlib/pyplot.py\u001b[0m in \u001b[0;36mbar\u001b[0;34m(x, height, width, bottom, align, data, **kwargs)\u001b[0m\n\u001b[1;32m   2979\u001b[0m     \u001b[0;34m**\u001b[0m\u001b[0mkwargs\u001b[0m\u001b[0;34m,\u001b[0m\u001b[0;34m\u001b[0m\u001b[0;34m\u001b[0m\u001b[0m\n\u001b[1;32m   2980\u001b[0m ) -> BarContainer:\n\u001b[0;32m-> 2981\u001b[0;31m     return gca().bar(\n\u001b[0m\u001b[1;32m   2982\u001b[0m         \u001b[0mx\u001b[0m\u001b[0;34m,\u001b[0m\u001b[0;34m\u001b[0m\u001b[0;34m\u001b[0m\u001b[0m\n\u001b[1;32m   2983\u001b[0m         \u001b[0mheight\u001b[0m\u001b[0;34m,\u001b[0m\u001b[0;34m\u001b[0m\u001b[0;34m\u001b[0m\u001b[0m\n",
            "\u001b[0;32m/usr/local/lib/python3.11/dist-packages/matplotlib/__init__.py\u001b[0m in \u001b[0;36minner\u001b[0;34m(ax, data, *args, **kwargs)\u001b[0m\n\u001b[1;32m   1519\u001b[0m     \u001b[0;32mdef\u001b[0m \u001b[0minner\u001b[0m\u001b[0;34m(\u001b[0m\u001b[0max\u001b[0m\u001b[0;34m,\u001b[0m \u001b[0;34m*\u001b[0m\u001b[0margs\u001b[0m\u001b[0;34m,\u001b[0m \u001b[0mdata\u001b[0m\u001b[0;34m=\u001b[0m\u001b[0;32mNone\u001b[0m\u001b[0;34m,\u001b[0m \u001b[0;34m**\u001b[0m\u001b[0mkwargs\u001b[0m\u001b[0;34m)\u001b[0m\u001b[0;34m:\u001b[0m\u001b[0;34m\u001b[0m\u001b[0;34m\u001b[0m\u001b[0m\n\u001b[1;32m   1520\u001b[0m         \u001b[0;32mif\u001b[0m \u001b[0mdata\u001b[0m \u001b[0;32mis\u001b[0m \u001b[0;32mNone\u001b[0m\u001b[0;34m:\u001b[0m\u001b[0;34m\u001b[0m\u001b[0;34m\u001b[0m\u001b[0m\n\u001b[0;32m-> 1521\u001b[0;31m             return func(\n\u001b[0m\u001b[1;32m   1522\u001b[0m                 \u001b[0max\u001b[0m\u001b[0;34m,\u001b[0m\u001b[0;34m\u001b[0m\u001b[0;34m\u001b[0m\u001b[0m\n\u001b[1;32m   1523\u001b[0m                 \u001b[0;34m*\u001b[0m\u001b[0mmap\u001b[0m\u001b[0;34m(\u001b[0m\u001b[0mcbook\u001b[0m\u001b[0;34m.\u001b[0m\u001b[0msanitize_sequence\u001b[0m\u001b[0;34m,\u001b[0m \u001b[0margs\u001b[0m\u001b[0;34m)\u001b[0m\u001b[0;34m,\u001b[0m\u001b[0;34m\u001b[0m\u001b[0;34m\u001b[0m\u001b[0m\n",
            "\u001b[0;32m/usr/local/lib/python3.11/dist-packages/matplotlib/axes/_axes.py\u001b[0m in \u001b[0;36mbar\u001b[0;34m(self, x, height, width, bottom, align, **kwargs)\u001b[0m\n\u001b[1;32m   2542\u001b[0m             \u001b[0;31m# However, it is also possible for y=0 for the default and height\u001b[0m\u001b[0;34m\u001b[0m\u001b[0;34m\u001b[0m\u001b[0m\n\u001b[1;32m   2543\u001b[0m             \u001b[0;31m# to contain unit information.  This will prioritize the units of y.\u001b[0m\u001b[0;34m\u001b[0m\u001b[0;34m\u001b[0m\u001b[0m\n\u001b[0;32m-> 2544\u001b[0;31m             self._process_unit_info(\n\u001b[0m\u001b[1;32m   2545\u001b[0m                 [(\"x\", x), (\"y\", y), (\"y\", height)], kwargs, convert=False)\n\u001b[1;32m   2546\u001b[0m             \u001b[0;32mif\u001b[0m \u001b[0mlog\u001b[0m\u001b[0;34m:\u001b[0m\u001b[0;34m\u001b[0m\u001b[0;34m\u001b[0m\u001b[0m\n",
            "\u001b[0;32m/usr/local/lib/python3.11/dist-packages/matplotlib/axes/_base.py\u001b[0m in \u001b[0;36m_process_unit_info\u001b[0;34m(self, datasets, kwargs, convert)\u001b[0m\n\u001b[1;32m   2615\u001b[0m             \u001b[0;31m# Update from data if axis is already set but no unit is set yet.\u001b[0m\u001b[0;34m\u001b[0m\u001b[0;34m\u001b[0m\u001b[0m\n\u001b[1;32m   2616\u001b[0m             \u001b[0;32mif\u001b[0m \u001b[0maxis\u001b[0m \u001b[0;32mis\u001b[0m \u001b[0;32mnot\u001b[0m \u001b[0;32mNone\u001b[0m \u001b[0;32mand\u001b[0m \u001b[0mdata\u001b[0m \u001b[0;32mis\u001b[0m \u001b[0;32mnot\u001b[0m \u001b[0;32mNone\u001b[0m \u001b[0;32mand\u001b[0m \u001b[0;32mnot\u001b[0m \u001b[0maxis\u001b[0m\u001b[0;34m.\u001b[0m\u001b[0mhave_units\u001b[0m\u001b[0;34m(\u001b[0m\u001b[0;34m)\u001b[0m\u001b[0;34m:\u001b[0m\u001b[0;34m\u001b[0m\u001b[0;34m\u001b[0m\u001b[0m\n\u001b[0;32m-> 2617\u001b[0;31m                 \u001b[0maxis\u001b[0m\u001b[0;34m.\u001b[0m\u001b[0mupdate_units\u001b[0m\u001b[0;34m(\u001b[0m\u001b[0mdata\u001b[0m\u001b[0;34m)\u001b[0m\u001b[0;34m\u001b[0m\u001b[0;34m\u001b[0m\u001b[0m\n\u001b[0m\u001b[1;32m   2618\u001b[0m         \u001b[0;32mfor\u001b[0m \u001b[0maxis_name\u001b[0m\u001b[0;34m,\u001b[0m \u001b[0maxis\u001b[0m \u001b[0;32min\u001b[0m \u001b[0maxis_map\u001b[0m\u001b[0;34m.\u001b[0m\u001b[0mitems\u001b[0m\u001b[0;34m(\u001b[0m\u001b[0;34m)\u001b[0m\u001b[0;34m:\u001b[0m\u001b[0;34m\u001b[0m\u001b[0;34m\u001b[0m\u001b[0m\n\u001b[1;32m   2619\u001b[0m             \u001b[0;31m# Return if no axis is set.\u001b[0m\u001b[0;34m\u001b[0m\u001b[0;34m\u001b[0m\u001b[0m\n",
            "\u001b[0;32m/usr/local/lib/python3.11/dist-packages/matplotlib/axis.py\u001b[0m in \u001b[0;36mupdate_units\u001b[0;34m(self, data)\u001b[0m\n\u001b[1;32m   1763\u001b[0m         \u001b[0mneednew\u001b[0m \u001b[0;34m=\u001b[0m \u001b[0mself\u001b[0m\u001b[0;34m.\u001b[0m\u001b[0m_converter\u001b[0m \u001b[0;34m!=\u001b[0m \u001b[0mconverter\u001b[0m\u001b[0;34m\u001b[0m\u001b[0;34m\u001b[0m\u001b[0m\n\u001b[1;32m   1764\u001b[0m         \u001b[0mself\u001b[0m\u001b[0;34m.\u001b[0m\u001b[0m_set_converter\u001b[0m\u001b[0;34m(\u001b[0m\u001b[0mconverter\u001b[0m\u001b[0;34m)\u001b[0m\u001b[0;34m\u001b[0m\u001b[0;34m\u001b[0m\u001b[0m\n\u001b[0;32m-> 1765\u001b[0;31m         \u001b[0mdefault\u001b[0m \u001b[0;34m=\u001b[0m \u001b[0mself\u001b[0m\u001b[0;34m.\u001b[0m\u001b[0m_converter\u001b[0m\u001b[0;34m.\u001b[0m\u001b[0mdefault_units\u001b[0m\u001b[0;34m(\u001b[0m\u001b[0mdata\u001b[0m\u001b[0;34m,\u001b[0m \u001b[0mself\u001b[0m\u001b[0;34m)\u001b[0m\u001b[0;34m\u001b[0m\u001b[0;34m\u001b[0m\u001b[0m\n\u001b[0m\u001b[1;32m   1766\u001b[0m         \u001b[0;32mif\u001b[0m \u001b[0mdefault\u001b[0m \u001b[0;32mis\u001b[0m \u001b[0;32mnot\u001b[0m \u001b[0;32mNone\u001b[0m \u001b[0;32mand\u001b[0m \u001b[0mself\u001b[0m\u001b[0;34m.\u001b[0m\u001b[0munits\u001b[0m \u001b[0;32mis\u001b[0m \u001b[0;32mNone\u001b[0m\u001b[0;34m:\u001b[0m\u001b[0;34m\u001b[0m\u001b[0;34m\u001b[0m\u001b[0m\n\u001b[1;32m   1767\u001b[0m             \u001b[0mself\u001b[0m\u001b[0;34m.\u001b[0m\u001b[0mset_units\u001b[0m\u001b[0;34m(\u001b[0m\u001b[0mdefault\u001b[0m\u001b[0;34m)\u001b[0m\u001b[0;34m\u001b[0m\u001b[0;34m\u001b[0m\u001b[0m\n",
            "\u001b[0;32m/usr/local/lib/python3.11/dist-packages/matplotlib/category.py\u001b[0m in \u001b[0;36mdefault_units\u001b[0;34m(data, axis)\u001b[0m\n\u001b[1;32m    104\u001b[0m         \u001b[0;31m# the conversion call stack is default_units -> axis_info -> convert\u001b[0m\u001b[0;34m\u001b[0m\u001b[0;34m\u001b[0m\u001b[0m\n\u001b[1;32m    105\u001b[0m         \u001b[0;32mif\u001b[0m \u001b[0maxis\u001b[0m\u001b[0;34m.\u001b[0m\u001b[0munits\u001b[0m \u001b[0;32mis\u001b[0m \u001b[0;32mNone\u001b[0m\u001b[0;34m:\u001b[0m\u001b[0;34m\u001b[0m\u001b[0;34m\u001b[0m\u001b[0m\n\u001b[0;32m--> 106\u001b[0;31m             \u001b[0maxis\u001b[0m\u001b[0;34m.\u001b[0m\u001b[0mset_units\u001b[0m\u001b[0;34m(\u001b[0m\u001b[0mUnitData\u001b[0m\u001b[0;34m(\u001b[0m\u001b[0mdata\u001b[0m\u001b[0;34m)\u001b[0m\u001b[0;34m)\u001b[0m\u001b[0;34m\u001b[0m\u001b[0;34m\u001b[0m\u001b[0m\n\u001b[0m\u001b[1;32m    107\u001b[0m         \u001b[0;32melse\u001b[0m\u001b[0;34m:\u001b[0m\u001b[0;34m\u001b[0m\u001b[0;34m\u001b[0m\u001b[0m\n\u001b[1;32m    108\u001b[0m             \u001b[0maxis\u001b[0m\u001b[0;34m.\u001b[0m\u001b[0munits\u001b[0m\u001b[0;34m.\u001b[0m\u001b[0mupdate\u001b[0m\u001b[0;34m(\u001b[0m\u001b[0mdata\u001b[0m\u001b[0;34m)\u001b[0m\u001b[0;34m\u001b[0m\u001b[0;34m\u001b[0m\u001b[0m\n",
            "\u001b[0;32m/usr/local/lib/python3.11/dist-packages/matplotlib/category.py\u001b[0m in \u001b[0;36m__init__\u001b[0;34m(self, data)\u001b[0m\n\u001b[1;32m    180\u001b[0m         \u001b[0mself\u001b[0m\u001b[0;34m.\u001b[0m\u001b[0m_counter\u001b[0m \u001b[0;34m=\u001b[0m \u001b[0mitertools\u001b[0m\u001b[0;34m.\u001b[0m\u001b[0mcount\u001b[0m\u001b[0;34m(\u001b[0m\u001b[0;34m)\u001b[0m\u001b[0;34m\u001b[0m\u001b[0;34m\u001b[0m\u001b[0m\n\u001b[1;32m    181\u001b[0m         \u001b[0;32mif\u001b[0m \u001b[0mdata\u001b[0m \u001b[0;32mis\u001b[0m \u001b[0;32mnot\u001b[0m \u001b[0;32mNone\u001b[0m\u001b[0;34m:\u001b[0m\u001b[0;34m\u001b[0m\u001b[0;34m\u001b[0m\u001b[0m\n\u001b[0;32m--> 182\u001b[0;31m             \u001b[0mself\u001b[0m\u001b[0;34m.\u001b[0m\u001b[0mupdate\u001b[0m\u001b[0;34m(\u001b[0m\u001b[0mdata\u001b[0m\u001b[0;34m)\u001b[0m\u001b[0;34m\u001b[0m\u001b[0;34m\u001b[0m\u001b[0m\n\u001b[0m\u001b[1;32m    183\u001b[0m \u001b[0;34m\u001b[0m\u001b[0m\n\u001b[1;32m    184\u001b[0m     \u001b[0;34m@\u001b[0m\u001b[0mstaticmethod\u001b[0m\u001b[0;34m\u001b[0m\u001b[0;34m\u001b[0m\u001b[0m\n",
            "\u001b[0;32m/usr/local/lib/python3.11/dist-packages/matplotlib/category.py\u001b[0m in \u001b[0;36mupdate\u001b[0;34m(self, data)\u001b[0m\n\u001b[1;32m    215\u001b[0m         \u001b[0;32mfor\u001b[0m \u001b[0mval\u001b[0m \u001b[0;32min\u001b[0m \u001b[0mOrderedDict\u001b[0m\u001b[0;34m.\u001b[0m\u001b[0mfromkeys\u001b[0m\u001b[0;34m(\u001b[0m\u001b[0mdata\u001b[0m\u001b[0;34m)\u001b[0m\u001b[0;34m:\u001b[0m\u001b[0;34m\u001b[0m\u001b[0;34m\u001b[0m\u001b[0m\n\u001b[1;32m    216\u001b[0m             \u001b[0;31m# OrderedDict just iterates over unique values in data.\u001b[0m\u001b[0;34m\u001b[0m\u001b[0;34m\u001b[0m\u001b[0m\n\u001b[0;32m--> 217\u001b[0;31m             \u001b[0m_api\u001b[0m\u001b[0;34m.\u001b[0m\u001b[0mcheck_isinstance\u001b[0m\u001b[0;34m(\u001b[0m\u001b[0;34m(\u001b[0m\u001b[0mstr\u001b[0m\u001b[0;34m,\u001b[0m \u001b[0mbytes\u001b[0m\u001b[0;34m)\u001b[0m\u001b[0;34m,\u001b[0m \u001b[0mvalue\u001b[0m\u001b[0;34m=\u001b[0m\u001b[0mval\u001b[0m\u001b[0;34m)\u001b[0m\u001b[0;34m\u001b[0m\u001b[0;34m\u001b[0m\u001b[0m\n\u001b[0m\u001b[1;32m    218\u001b[0m             \u001b[0;32mif\u001b[0m \u001b[0mconvertible\u001b[0m\u001b[0;34m:\u001b[0m\u001b[0;34m\u001b[0m\u001b[0;34m\u001b[0m\u001b[0m\n\u001b[1;32m    219\u001b[0m                 \u001b[0;31m# this will only be called so long as convertible is True.\u001b[0m\u001b[0;34m\u001b[0m\u001b[0;34m\u001b[0m\u001b[0m\n",
            "\u001b[0;32m/usr/local/lib/python3.11/dist-packages/matplotlib/_api/__init__.py\u001b[0m in \u001b[0;36mcheck_isinstance\u001b[0;34m(types, **kwargs)\u001b[0m\n\u001b[1;32m     90\u001b[0m                 \u001b[0mnames\u001b[0m\u001b[0;34m.\u001b[0m\u001b[0mremove\u001b[0m\u001b[0;34m(\u001b[0m\u001b[0;34m\"None\"\u001b[0m\u001b[0;34m)\u001b[0m\u001b[0;34m\u001b[0m\u001b[0;34m\u001b[0m\u001b[0m\n\u001b[1;32m     91\u001b[0m                 \u001b[0mnames\u001b[0m\u001b[0;34m.\u001b[0m\u001b[0mappend\u001b[0m\u001b[0;34m(\u001b[0m\u001b[0;34m\"None\"\u001b[0m\u001b[0;34m)\u001b[0m\u001b[0;34m\u001b[0m\u001b[0;34m\u001b[0m\u001b[0m\n\u001b[0;32m---> 92\u001b[0;31m             raise TypeError(\n\u001b[0m\u001b[1;32m     93\u001b[0m                 \"{!r} must be an instance of {}, not a {}\".format(\n\u001b[1;32m     94\u001b[0m                     \u001b[0mk\u001b[0m\u001b[0;34m,\u001b[0m\u001b[0;34m\u001b[0m\u001b[0;34m\u001b[0m\u001b[0m\n",
            "\u001b[0;31mTypeError\u001b[0m: 'value' must be an instance of str or bytes, not a float"
          ]
        },
        {
          "output_type": "display_data",
          "data": {
            "text/plain": [
              "<Figure size 640x480 with 1 Axes>"
            ],
            "image/png": "[encoded data removed]"
          },
          "metadata": {}
        }
      ]
    },
    {
      "cell_type": "code",
      "source": [
        "order = ['Very Slow', 'Slow', 'Average', 'Fast', 'Very Fast']\n",
        "\n",
        "LRdata['Infection Speed'] = pd.Categorical(LRdata['Infection Speed'], categories=order, ordered=True)\n",
        "\n",
        "LR_IS_sort = LRdata.sort_values('Infection Speed')\n",
        "\n",
        "plt.bar(LR_IS_sort['Infection Speed'], LR_IS_sort['Country People/Sq Km'])\n",
        "plt.title('Population Density vs Infection Speed', loc='center', x=0.65, y=1.05)\n",
        "plt.xlabel('Infection Speed based on Average Rate of Change Between 2020 and 2022')\n",
        "plt.ylabel('People Per Square Kilometer')\n",
        "plt.show()\n"
      ],
      "metadata": {
        "colab": {
          "base_uri": "https://localhost:8080/",
          "height": 490
        },
        "id": "Lm7UGV13Kuk8",
        "outputId": "d9fb543a-28aa-433c-ac1a-2ae43f2ed68e"
      },
      "execution_count": 54,
      "outputs": [
        {
          "output_type": "display_data",
          "data": {
            "text/plain": [
              "<Figure size 640x480 with 1 Axes>"
            ],
            "image/png": "[encoded data removed]"
          },
          "metadata": {}
        }
      ]
    },
    {
      "cell_type": "code",
      "source": [
        "LRdata['Country People/Sq Km'].describe()"
      ],
      "metadata": {
        "colab": {
          "base_uri": "https://localhost:8080/",
          "height": 335
        },
        "id": "IXq_x1dxbIbe",
        "outputId": "92187bfa-870e-4a61-9001-cb3c1cb2c1d7"
      },
      "execution_count": 55,
      "outputs": [
        {
          "output_type": "execute_result",
          "data": {
            "text/plain": [
              "count      194.000000\n",
              "mean       349.000000\n",
              "std       1953.899775\n",
              "min          2.000000\n",
              "25%         36.250000\n",
              "50%         91.500000\n",
              "75%        213.750000\n",
              "max      25917.000000\n",
              "Name: Country People/Sq Km, dtype: float64"
            ],
            "text/html": [
              "<div>\n",
              "<style scoped>\n",
              "    .dataframe tbody tr th:only-of-type {\n",
              "        vertical-align: middle;\n",
              "    }\n",
              "\n",
              "    .dataframe tbody tr th {\n",
              "        vertical-align: top;\n",
              "    }\n",
              "\n",
              "    .dataframe thead th {\n",
              "        text-align: right;\n",
              "    }\n",
              "</style>\n",
              "<table border=\"1\" class=\"dataframe\">\n",
              "  <thead>\n",
              "    <tr style=\"text-align: right;\">\n",
              "      <th></th>\n",
              "      <th>Country People/Sq Km</th>\n",
              "    </tr>\n",
              "  </thead>\n",
              "  <tbody>\n",
              "    <tr>\n",
              "      <th>count</th>\n",
              "      <td>194.000000</td>\n",
              "    </tr>\n",
              "    <tr>\n",
              "      <th>mean</th>\n",
              "      <td>349.000000</td>\n",
              "    </tr>\n",
              "    <tr>\n",
              "      <th>std</th>\n",
              "      <td>1953.899775</td>\n",
              "    </tr>\n",
              "    <tr>\n",
              "      <th>min</th>\n",
              "      <td>2.000000</td>\n",
              "    </tr>\n",
              "    <tr>\n",
              "      <th>25%</th>\n",
              "      <td>36.250000</td>\n",
              "    </tr>\n",
              "    <tr>\n",
              "      <th>50%</th>\n",
              "      <td>91.500000</td>\n",
              "    </tr>\n",
              "    <tr>\n",
              "      <th>75%</th>\n",
              "      <td>213.750000</td>\n",
              "    </tr>\n",
              "    <tr>\n",
              "      <th>max</th>\n",
              "      <td>25917.000000</td>\n",
              "    </tr>\n",
              "  </tbody>\n",
              "</table>\n",
              "</div><br><label><b>dtype:</b> float64</label>"
            ]
          },
          "metadata": {},
          "execution_count": 55
        }
      ]
    },
    {
      "cell_type": "code",
      "source": [
        "LRdata['Slope between 2020 and 2022'].describe()"
      ],
      "metadata": {
        "colab": {
          "base_uri": "https://localhost:8080/",
          "height": 335
        },
        "id": "m7lxlOdCbQ51",
        "outputId": "6dddb1d5-bb9e-46b8-8845-3ac47fc34df5"
      },
      "execution_count": 56,
      "outputs": [
        {
          "output_type": "execute_result",
          "data": {
            "text/plain": [
              "count    1.940000e+02\n",
              "mean     4.862177e+08\n",
              "std      1.450020e+09\n",
              "min      1.160000e+02\n",
              "25%      7.539378e+06\n",
              "50%      5.493690e+07\n",
              "75%      2.681949e+08\n",
              "max      1.505885e+10\n",
              "Name: Slope between 2020 and 2022, dtype: float64"
            ],
            "text/html": [
              "<div>\n",
              "<style scoped>\n",
              "    .dataframe tbody tr th:only-of-type {\n",
              "        vertical-align: middle;\n",
              "    }\n",
              "\n",
              "    .dataframe tbody tr th {\n",
              "        vertical-align: top;\n",
              "    }\n",
              "\n",
              "    .dataframe thead th {\n",
              "        text-align: right;\n",
              "    }\n",
              "</style>\n",
              "<table border=\"1\" class=\"dataframe\">\n",
              "  <thead>\n",
              "    <tr style=\"text-align: right;\">\n",
              "      <th></th>\n",
              "      <th>Slope between 2020 and 2022</th>\n",
              "    </tr>\n",
              "  </thead>\n",
              "  <tbody>\n",
              "    <tr>\n",
              "      <th>count</th>\n",
              "      <td>1.940000e+02</td>\n",
              "    </tr>\n",
              "    <tr>\n",
              "      <th>mean</th>\n",
              "      <td>4.862177e+08</td>\n",
              "    </tr>\n",
              "    <tr>\n",
              "      <th>std</th>\n",
              "      <td>1.450020e+09</td>\n",
              "    </tr>\n",
              "    <tr>\n",
              "      <th>min</th>\n",
              "      <td>1.160000e+02</td>\n",
              "    </tr>\n",
              "    <tr>\n",
              "      <th>25%</th>\n",
              "      <td>7.539378e+06</td>\n",
              "    </tr>\n",
              "    <tr>\n",
              "      <th>50%</th>\n",
              "      <td>5.493690e+07</td>\n",
              "    </tr>\n",
              "    <tr>\n",
              "      <th>75%</th>\n",
              "      <td>2.681949e+08</td>\n",
              "    </tr>\n",
              "    <tr>\n",
              "      <th>max</th>\n",
              "      <td>1.505885e+10</td>\n",
              "    </tr>\n",
              "  </tbody>\n",
              "</table>\n",
              "</div><br><label><b>dtype:</b> float64</label>"
            ]
          },
          "metadata": {},
          "execution_count": 56
        }
      ]
    },
    {
      "cell_type": "code",
      "source": [
        "x = LRdata['Country People/Sq Km']\n",
        "\n",
        "plt.hist(x)\n",
        "plt.show()"
      ],
      "metadata": {
        "colab": {
          "base_uri": "https://localhost:8080/",
          "height": 432
        },
        "id": "CyjVuT19ckea",
        "outputId": "2e9d676b-ef01-43ac-aacf-00aa55786c01"
      },
      "execution_count": 57,
      "outputs": [
        {
          "output_type": "display_data",
          "data": {
            "text/plain": [
              "<Figure size 640x480 with 1 Axes>"
            ],
            "image/png": "[encoded data removed]"
          },
          "metadata": {}
        }
      ]
    },
    {
      "cell_type": "code",
      "source": [
        "x = LRdata['Slope between 2020 and 2022']\n",
        "\n",
        "plt.hist(x)\n",
        "plt.show()"
      ],
      "metadata": {
        "colab": {
          "base_uri": "https://localhost:8080/",
          "height": 448
        },
        "id": "VgyXRLz_fxBq",
        "outputId": "580c586e-39a8-4faf-abfb-a2d3558cc8d9"
      },
      "execution_count": 58,
      "outputs": [
        {
          "output_type": "display_data",
          "data": {
            "text/plain": [
              "<Figure size 640x480 with 1 Axes>"
            ],
            "image/png": "[encoded data removed]"
          },
          "metadata": {}
        }
      ]
    },
    {
      "cell_type": "code",
      "source": [],
      "metadata": {
        "colab": {
          "base_uri": "https://localhost:8080/",
          "height": 430
        },
        "id": "OInBvUs6m_wq",
        "outputId": "d9475fe2-3396-40ef-9dd5-151d58e73f88"
      },
      "execution_count": 61,
      "outputs": [
        {
          "output_type": "display_data",
          "data": {
            "text/plain": [
              "<Figure size 640x480 with 1 Axes>"
            ],
            "image/png": "[encoded data removed]"
          },
          "metadata": {}
        }
      ]
    },
    {
      "cell_type": "code",
      "source": [],
      "metadata": {
        "id": "dV8HIWxzs76o"
      },
      "execution_count": null,
      "outputs": []
    },
    {
      "cell_type": "markdown",
      "source": [
        "\n",
        "\n",
        "---\n",
        "\n"
      ],
      "metadata": {
        "id": "BIwIEvPXuUEZ"
      }
    }
  ]
}